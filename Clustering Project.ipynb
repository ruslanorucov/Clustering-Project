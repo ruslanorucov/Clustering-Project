{
 "cells": [
  {
   "cell_type": "markdown",
   "metadata": {},
   "source": [
    "# Clustering"
   ]
  },
  {
   "cell_type": "code",
   "execution_count": 10,
   "metadata": {},
   "outputs": [],
   "source": [
    "# Import the relevant libraries\n",
    "import numpy as np\n",
    "import pandas as pd\n",
    "import matplotlib.pyplot as plt\n",
    "%matplotlib inline\n",
    "import seaborn as sns\n",
    "sns.set()"
   ]
  },
  {
   "cell_type": "code",
   "execution_count": 11,
   "metadata": {},
   "outputs": [
    {
     "data": {
      "text/html": [
       "<div>\n",
       "<style scoped>\n",
       "    .dataframe tbody tr th:only-of-type {\n",
       "        vertical-align: middle;\n",
       "    }\n",
       "\n",
       "    .dataframe tbody tr th {\n",
       "        vertical-align: top;\n",
       "    }\n",
       "\n",
       "    .dataframe thead th {\n",
       "        text-align: right;\n",
       "    }\n",
       "</style>\n",
       "<table border=\"1\" class=\"dataframe\">\n",
       "  <thead>\n",
       "    <tr style=\"text-align: right;\">\n",
       "      <th></th>\n",
       "      <th>User ID</th>\n",
       "      <th>Category 1</th>\n",
       "      <th>Category 2</th>\n",
       "      <th>Category 3</th>\n",
       "      <th>Category 4</th>\n",
       "      <th>Category 5</th>\n",
       "      <th>Category 6</th>\n",
       "      <th>Category 7</th>\n",
       "      <th>Category 8</th>\n",
       "      <th>Category 9</th>\n",
       "      <th>Category 10</th>\n",
       "    </tr>\n",
       "  </thead>\n",
       "  <tbody>\n",
       "    <tr>\n",
       "      <th>0</th>\n",
       "      <td>User 1</td>\n",
       "      <td>0.93</td>\n",
       "      <td>1.80</td>\n",
       "      <td>2.29</td>\n",
       "      <td>0.62</td>\n",
       "      <td>0.80</td>\n",
       "      <td>2.42</td>\n",
       "      <td>3.19</td>\n",
       "      <td>2.79</td>\n",
       "      <td>1.82</td>\n",
       "      <td>2.42</td>\n",
       "    </tr>\n",
       "    <tr>\n",
       "      <th>1</th>\n",
       "      <td>User 2</td>\n",
       "      <td>1.02</td>\n",
       "      <td>2.20</td>\n",
       "      <td>2.66</td>\n",
       "      <td>0.64</td>\n",
       "      <td>1.42</td>\n",
       "      <td>3.18</td>\n",
       "      <td>3.21</td>\n",
       "      <td>2.63</td>\n",
       "      <td>1.86</td>\n",
       "      <td>2.32</td>\n",
       "    </tr>\n",
       "    <tr>\n",
       "      <th>2</th>\n",
       "      <td>User 3</td>\n",
       "      <td>1.22</td>\n",
       "      <td>0.80</td>\n",
       "      <td>0.54</td>\n",
       "      <td>0.53</td>\n",
       "      <td>0.24</td>\n",
       "      <td>1.54</td>\n",
       "      <td>3.18</td>\n",
       "      <td>2.80</td>\n",
       "      <td>1.31</td>\n",
       "      <td>2.50</td>\n",
       "    </tr>\n",
       "    <tr>\n",
       "      <th>3</th>\n",
       "      <td>User 4</td>\n",
       "      <td>0.45</td>\n",
       "      <td>1.80</td>\n",
       "      <td>0.29</td>\n",
       "      <td>0.57</td>\n",
       "      <td>0.46</td>\n",
       "      <td>1.52</td>\n",
       "      <td>3.18</td>\n",
       "      <td>2.96</td>\n",
       "      <td>1.57</td>\n",
       "      <td>2.86</td>\n",
       "    </tr>\n",
       "    <tr>\n",
       "      <th>4</th>\n",
       "      <td>User 5</td>\n",
       "      <td>0.51</td>\n",
       "      <td>1.20</td>\n",
       "      <td>1.18</td>\n",
       "      <td>0.57</td>\n",
       "      <td>1.54</td>\n",
       "      <td>2.02</td>\n",
       "      <td>3.18</td>\n",
       "      <td>2.78</td>\n",
       "      <td>1.18</td>\n",
       "      <td>2.54</td>\n",
       "    </tr>\n",
       "    <tr>\n",
       "      <th>...</th>\n",
       "      <td>...</td>\n",
       "      <td>...</td>\n",
       "      <td>...</td>\n",
       "      <td>...</td>\n",
       "      <td>...</td>\n",
       "      <td>...</td>\n",
       "      <td>...</td>\n",
       "      <td>...</td>\n",
       "      <td>...</td>\n",
       "      <td>...</td>\n",
       "      <td>...</td>\n",
       "    </tr>\n",
       "    <tr>\n",
       "      <th>975</th>\n",
       "      <td>User 976</td>\n",
       "      <td>0.74</td>\n",
       "      <td>1.12</td>\n",
       "      <td>0.30</td>\n",
       "      <td>0.53</td>\n",
       "      <td>0.88</td>\n",
       "      <td>1.38</td>\n",
       "      <td>3.17</td>\n",
       "      <td>2.78</td>\n",
       "      <td>0.99</td>\n",
       "      <td>3.20</td>\n",
       "    </tr>\n",
       "    <tr>\n",
       "      <th>976</th>\n",
       "      <td>User 977</td>\n",
       "      <td>1.25</td>\n",
       "      <td>0.92</td>\n",
       "      <td>1.12</td>\n",
       "      <td>0.38</td>\n",
       "      <td>0.78</td>\n",
       "      <td>1.68</td>\n",
       "      <td>3.18</td>\n",
       "      <td>2.79</td>\n",
       "      <td>1.34</td>\n",
       "      <td>2.80</td>\n",
       "    </tr>\n",
       "    <tr>\n",
       "      <th>977</th>\n",
       "      <td>User 978</td>\n",
       "      <td>0.61</td>\n",
       "      <td>1.32</td>\n",
       "      <td>0.67</td>\n",
       "      <td>0.43</td>\n",
       "      <td>1.30</td>\n",
       "      <td>1.78</td>\n",
       "      <td>3.17</td>\n",
       "      <td>2.81</td>\n",
       "      <td>1.34</td>\n",
       "      <td>3.02</td>\n",
       "    </tr>\n",
       "    <tr>\n",
       "      <th>978</th>\n",
       "      <td>User 979</td>\n",
       "      <td>0.93</td>\n",
       "      <td>0.20</td>\n",
       "      <td>0.13</td>\n",
       "      <td>0.43</td>\n",
       "      <td>0.30</td>\n",
       "      <td>0.40</td>\n",
       "      <td>3.18</td>\n",
       "      <td>2.98</td>\n",
       "      <td>1.12</td>\n",
       "      <td>2.46</td>\n",
       "    </tr>\n",
       "    <tr>\n",
       "      <th>979</th>\n",
       "      <td>User 980</td>\n",
       "      <td>0.93</td>\n",
       "      <td>0.56</td>\n",
       "      <td>1.13</td>\n",
       "      <td>0.51</td>\n",
       "      <td>1.34</td>\n",
       "      <td>2.36</td>\n",
       "      <td>3.18</td>\n",
       "      <td>2.87</td>\n",
       "      <td>1.34</td>\n",
       "      <td>2.40</td>\n",
       "    </tr>\n",
       "  </tbody>\n",
       "</table>\n",
       "<p>980 rows × 11 columns</p>\n",
       "</div>"
      ],
      "text/plain": [
       "      User ID  Category 1  Category 2  Category 3  Category 4  Category 5  \\\n",
       "0      User 1        0.93        1.80        2.29        0.62        0.80   \n",
       "1      User 2        1.02        2.20        2.66        0.64        1.42   \n",
       "2      User 3        1.22        0.80        0.54        0.53        0.24   \n",
       "3      User 4        0.45        1.80        0.29        0.57        0.46   \n",
       "4      User 5        0.51        1.20        1.18        0.57        1.54   \n",
       "..        ...         ...         ...         ...         ...         ...   \n",
       "975  User 976        0.74        1.12        0.30        0.53        0.88   \n",
       "976  User 977        1.25        0.92        1.12        0.38        0.78   \n",
       "977  User 978        0.61        1.32        0.67        0.43        1.30   \n",
       "978  User 979        0.93        0.20        0.13        0.43        0.30   \n",
       "979  User 980        0.93        0.56        1.13        0.51        1.34   \n",
       "\n",
       "     Category 6  Category 7  Category 8  Category 9  Category 10  \n",
       "0          2.42        3.19        2.79        1.82         2.42  \n",
       "1          3.18        3.21        2.63        1.86         2.32  \n",
       "2          1.54        3.18        2.80        1.31         2.50  \n",
       "3          1.52        3.18        2.96        1.57         2.86  \n",
       "4          2.02        3.18        2.78        1.18         2.54  \n",
       "..          ...         ...         ...         ...          ...  \n",
       "975        1.38        3.17        2.78        0.99         3.20  \n",
       "976        1.68        3.18        2.79        1.34         2.80  \n",
       "977        1.78        3.17        2.81        1.34         3.02  \n",
       "978        0.40        3.18        2.98        1.12         2.46  \n",
       "979        2.36        3.18        2.87        1.34         2.40  \n",
       "\n",
       "[980 rows x 11 columns]"
      ]
     },
     "execution_count": 11,
     "metadata": {},
     "output_type": "execute_result"
    }
   ],
   "source": [
    "data = pd.read_csv(r\"C:\\Users\\Ruslan\\Desktop\\DataCity - Python\\Final Project\\clustering.csv\")\n",
    "data"
   ]
  },
  {
   "cell_type": "markdown",
   "metadata": {},
   "source": [
    "## Preprocessing"
   ]
  },
  {
   "cell_type": "code",
   "execution_count": 12,
   "metadata": {},
   "outputs": [],
   "source": [
    "raw_data = data.copy()"
   ]
  },
  {
   "cell_type": "code",
   "execution_count": 13,
   "metadata": {},
   "outputs": [
    {
     "data": {
      "text/html": [
       "<div>\n",
       "<style scoped>\n",
       "    .dataframe tbody tr th:only-of-type {\n",
       "        vertical-align: middle;\n",
       "    }\n",
       "\n",
       "    .dataframe tbody tr th {\n",
       "        vertical-align: top;\n",
       "    }\n",
       "\n",
       "    .dataframe thead th {\n",
       "        text-align: right;\n",
       "    }\n",
       "</style>\n",
       "<table border=\"1\" class=\"dataframe\">\n",
       "  <thead>\n",
       "    <tr style=\"text-align: right;\">\n",
       "      <th></th>\n",
       "      <th>User ID</th>\n",
       "      <th>Category 1</th>\n",
       "      <th>Category 2</th>\n",
       "      <th>Category 3</th>\n",
       "      <th>Category 4</th>\n",
       "      <th>Category 5</th>\n",
       "      <th>Category 6</th>\n",
       "      <th>Category 7</th>\n",
       "      <th>Category 8</th>\n",
       "      <th>Category 9</th>\n",
       "      <th>Category 10</th>\n",
       "    </tr>\n",
       "  </thead>\n",
       "  <tbody>\n",
       "    <tr>\n",
       "      <th>count</th>\n",
       "      <td>980</td>\n",
       "      <td>980.000000</td>\n",
       "      <td>980.000000</td>\n",
       "      <td>980.000000</td>\n",
       "      <td>980.000000</td>\n",
       "      <td>980.000000</td>\n",
       "      <td>980.000000</td>\n",
       "      <td>980.000000</td>\n",
       "      <td>980.000000</td>\n",
       "      <td>980.000000</td>\n",
       "      <td>980.000000</td>\n",
       "    </tr>\n",
       "    <tr>\n",
       "      <th>unique</th>\n",
       "      <td>980</td>\n",
       "      <td>NaN</td>\n",
       "      <td>NaN</td>\n",
       "      <td>NaN</td>\n",
       "      <td>NaN</td>\n",
       "      <td>NaN</td>\n",
       "      <td>NaN</td>\n",
       "      <td>NaN</td>\n",
       "      <td>NaN</td>\n",
       "      <td>NaN</td>\n",
       "      <td>NaN</td>\n",
       "    </tr>\n",
       "    <tr>\n",
       "      <th>top</th>\n",
       "      <td>User 664</td>\n",
       "      <td>NaN</td>\n",
       "      <td>NaN</td>\n",
       "      <td>NaN</td>\n",
       "      <td>NaN</td>\n",
       "      <td>NaN</td>\n",
       "      <td>NaN</td>\n",
       "      <td>NaN</td>\n",
       "      <td>NaN</td>\n",
       "      <td>NaN</td>\n",
       "      <td>NaN</td>\n",
       "    </tr>\n",
       "    <tr>\n",
       "      <th>freq</th>\n",
       "      <td>1</td>\n",
       "      <td>NaN</td>\n",
       "      <td>NaN</td>\n",
       "      <td>NaN</td>\n",
       "      <td>NaN</td>\n",
       "      <td>NaN</td>\n",
       "      <td>NaN</td>\n",
       "      <td>NaN</td>\n",
       "      <td>NaN</td>\n",
       "      <td>NaN</td>\n",
       "      <td>NaN</td>\n",
       "    </tr>\n",
       "    <tr>\n",
       "      <th>mean</th>\n",
       "      <td>NaN</td>\n",
       "      <td>0.893194</td>\n",
       "      <td>1.352612</td>\n",
       "      <td>1.013306</td>\n",
       "      <td>0.532500</td>\n",
       "      <td>0.939735</td>\n",
       "      <td>1.842898</td>\n",
       "      <td>3.180939</td>\n",
       "      <td>2.835061</td>\n",
       "      <td>1.569439</td>\n",
       "      <td>2.799224</td>\n",
       "    </tr>\n",
       "    <tr>\n",
       "      <th>std</th>\n",
       "      <td>NaN</td>\n",
       "      <td>0.326912</td>\n",
       "      <td>0.478280</td>\n",
       "      <td>0.788607</td>\n",
       "      <td>0.279731</td>\n",
       "      <td>0.437430</td>\n",
       "      <td>0.539538</td>\n",
       "      <td>0.007824</td>\n",
       "      <td>0.137505</td>\n",
       "      <td>0.364629</td>\n",
       "      <td>0.321380</td>\n",
       "    </tr>\n",
       "    <tr>\n",
       "      <th>min</th>\n",
       "      <td>NaN</td>\n",
       "      <td>0.340000</td>\n",
       "      <td>0.000000</td>\n",
       "      <td>0.130000</td>\n",
       "      <td>0.150000</td>\n",
       "      <td>0.060000</td>\n",
       "      <td>0.140000</td>\n",
       "      <td>3.160000</td>\n",
       "      <td>2.420000</td>\n",
       "      <td>0.740000</td>\n",
       "      <td>2.140000</td>\n",
       "    </tr>\n",
       "    <tr>\n",
       "      <th>25%</th>\n",
       "      <td>NaN</td>\n",
       "      <td>0.670000</td>\n",
       "      <td>1.080000</td>\n",
       "      <td>0.270000</td>\n",
       "      <td>0.410000</td>\n",
       "      <td>0.640000</td>\n",
       "      <td>1.460000</td>\n",
       "      <td>3.180000</td>\n",
       "      <td>2.740000</td>\n",
       "      <td>1.310000</td>\n",
       "      <td>2.540000</td>\n",
       "    </tr>\n",
       "    <tr>\n",
       "      <th>50%</th>\n",
       "      <td>NaN</td>\n",
       "      <td>0.830000</td>\n",
       "      <td>1.280000</td>\n",
       "      <td>0.820000</td>\n",
       "      <td>0.500000</td>\n",
       "      <td>0.900000</td>\n",
       "      <td>1.800000</td>\n",
       "      <td>3.180000</td>\n",
       "      <td>2.820000</td>\n",
       "      <td>1.540000</td>\n",
       "      <td>2.780000</td>\n",
       "    </tr>\n",
       "    <tr>\n",
       "      <th>75%</th>\n",
       "      <td>NaN</td>\n",
       "      <td>1.020000</td>\n",
       "      <td>1.560000</td>\n",
       "      <td>1.572500</td>\n",
       "      <td>0.580000</td>\n",
       "      <td>1.200000</td>\n",
       "      <td>2.200000</td>\n",
       "      <td>3.180000</td>\n",
       "      <td>2.910000</td>\n",
       "      <td>1.760000</td>\n",
       "      <td>3.040000</td>\n",
       "    </tr>\n",
       "    <tr>\n",
       "      <th>max</th>\n",
       "      <td>NaN</td>\n",
       "      <td>3.220000</td>\n",
       "      <td>3.640000</td>\n",
       "      <td>3.620000</td>\n",
       "      <td>3.440000</td>\n",
       "      <td>3.300000</td>\n",
       "      <td>3.760000</td>\n",
       "      <td>3.210000</td>\n",
       "      <td>3.390000</td>\n",
       "      <td>3.170000</td>\n",
       "      <td>3.660000</td>\n",
       "    </tr>\n",
       "  </tbody>\n",
       "</table>\n",
       "</div>"
      ],
      "text/plain": [
       "         User ID  Category 1  Category 2  Category 3  Category 4  Category 5  \\\n",
       "count        980  980.000000  980.000000  980.000000  980.000000  980.000000   \n",
       "unique       980         NaN         NaN         NaN         NaN         NaN   \n",
       "top     User 664         NaN         NaN         NaN         NaN         NaN   \n",
       "freq           1         NaN         NaN         NaN         NaN         NaN   \n",
       "mean         NaN    0.893194    1.352612    1.013306    0.532500    0.939735   \n",
       "std          NaN    0.326912    0.478280    0.788607    0.279731    0.437430   \n",
       "min          NaN    0.340000    0.000000    0.130000    0.150000    0.060000   \n",
       "25%          NaN    0.670000    1.080000    0.270000    0.410000    0.640000   \n",
       "50%          NaN    0.830000    1.280000    0.820000    0.500000    0.900000   \n",
       "75%          NaN    1.020000    1.560000    1.572500    0.580000    1.200000   \n",
       "max          NaN    3.220000    3.640000    3.620000    3.440000    3.300000   \n",
       "\n",
       "        Category 6  Category 7  Category 8  Category 9  Category 10  \n",
       "count   980.000000  980.000000  980.000000  980.000000   980.000000  \n",
       "unique         NaN         NaN         NaN         NaN          NaN  \n",
       "top            NaN         NaN         NaN         NaN          NaN  \n",
       "freq           NaN         NaN         NaN         NaN          NaN  \n",
       "mean      1.842898    3.180939    2.835061    1.569439     2.799224  \n",
       "std       0.539538    0.007824    0.137505    0.364629     0.321380  \n",
       "min       0.140000    3.160000    2.420000    0.740000     2.140000  \n",
       "25%       1.460000    3.180000    2.740000    1.310000     2.540000  \n",
       "50%       1.800000    3.180000    2.820000    1.540000     2.780000  \n",
       "75%       2.200000    3.180000    2.910000    1.760000     3.040000  \n",
       "max       3.760000    3.210000    3.390000    3.170000     3.660000  "
      ]
     },
     "execution_count": 13,
     "metadata": {},
     "output_type": "execute_result"
    }
   ],
   "source": [
    "raw_data.describe(include='all')"
   ]
  },
  {
   "cell_type": "code",
   "execution_count": 14,
   "metadata": {},
   "outputs": [
    {
     "data": {
      "text/html": [
       "<div>\n",
       "<style scoped>\n",
       "    .dataframe tbody tr th:only-of-type {\n",
       "        vertical-align: middle;\n",
       "    }\n",
       "\n",
       "    .dataframe tbody tr th {\n",
       "        vertical-align: top;\n",
       "    }\n",
       "\n",
       "    .dataframe thead th {\n",
       "        text-align: right;\n",
       "    }\n",
       "</style>\n",
       "<table border=\"1\" class=\"dataframe\">\n",
       "  <thead>\n",
       "    <tr style=\"text-align: right;\">\n",
       "      <th></th>\n",
       "      <th>Category 1</th>\n",
       "      <th>Category 2</th>\n",
       "      <th>Category 3</th>\n",
       "      <th>Category 4</th>\n",
       "      <th>Category 5</th>\n",
       "      <th>Category 6</th>\n",
       "      <th>Category 7</th>\n",
       "      <th>Category 8</th>\n",
       "      <th>Category 9</th>\n",
       "      <th>Category 10</th>\n",
       "    </tr>\n",
       "  </thead>\n",
       "  <tbody>\n",
       "    <tr>\n",
       "      <th>0</th>\n",
       "      <td>0.93</td>\n",
       "      <td>1.8</td>\n",
       "      <td>2.29</td>\n",
       "      <td>0.62</td>\n",
       "      <td>0.80</td>\n",
       "      <td>2.42</td>\n",
       "      <td>3.19</td>\n",
       "      <td>2.79</td>\n",
       "      <td>1.82</td>\n",
       "      <td>2.42</td>\n",
       "    </tr>\n",
       "    <tr>\n",
       "      <th>1</th>\n",
       "      <td>1.02</td>\n",
       "      <td>2.2</td>\n",
       "      <td>2.66</td>\n",
       "      <td>0.64</td>\n",
       "      <td>1.42</td>\n",
       "      <td>3.18</td>\n",
       "      <td>3.21</td>\n",
       "      <td>2.63</td>\n",
       "      <td>1.86</td>\n",
       "      <td>2.32</td>\n",
       "    </tr>\n",
       "    <tr>\n",
       "      <th>2</th>\n",
       "      <td>1.22</td>\n",
       "      <td>0.8</td>\n",
       "      <td>0.54</td>\n",
       "      <td>0.53</td>\n",
       "      <td>0.24</td>\n",
       "      <td>1.54</td>\n",
       "      <td>3.18</td>\n",
       "      <td>2.80</td>\n",
       "      <td>1.31</td>\n",
       "      <td>2.50</td>\n",
       "    </tr>\n",
       "    <tr>\n",
       "      <th>3</th>\n",
       "      <td>0.45</td>\n",
       "      <td>1.8</td>\n",
       "      <td>0.29</td>\n",
       "      <td>0.57</td>\n",
       "      <td>0.46</td>\n",
       "      <td>1.52</td>\n",
       "      <td>3.18</td>\n",
       "      <td>2.96</td>\n",
       "      <td>1.57</td>\n",
       "      <td>2.86</td>\n",
       "    </tr>\n",
       "    <tr>\n",
       "      <th>4</th>\n",
       "      <td>0.51</td>\n",
       "      <td>1.2</td>\n",
       "      <td>1.18</td>\n",
       "      <td>0.57</td>\n",
       "      <td>1.54</td>\n",
       "      <td>2.02</td>\n",
       "      <td>3.18</td>\n",
       "      <td>2.78</td>\n",
       "      <td>1.18</td>\n",
       "      <td>2.54</td>\n",
       "    </tr>\n",
       "  </tbody>\n",
       "</table>\n",
       "</div>"
      ],
      "text/plain": [
       "   Category 1  Category 2  Category 3  Category 4  Category 5  Category 6  \\\n",
       "0        0.93         1.8        2.29        0.62        0.80        2.42   \n",
       "1        1.02         2.2        2.66        0.64        1.42        3.18   \n",
       "2        1.22         0.8        0.54        0.53        0.24        1.54   \n",
       "3        0.45         1.8        0.29        0.57        0.46        1.52   \n",
       "4        0.51         1.2        1.18        0.57        1.54        2.02   \n",
       "\n",
       "   Category 7  Category 8  Category 9  Category 10  \n",
       "0        3.19        2.79        1.82         2.42  \n",
       "1        3.21        2.63        1.86         2.32  \n",
       "2        3.18        2.80        1.31         2.50  \n",
       "3        3.18        2.96        1.57         2.86  \n",
       "4        3.18        2.78        1.18         2.54  "
      ]
     },
     "execution_count": 14,
     "metadata": {},
     "output_type": "execute_result"
    }
   ],
   "source": [
    "# Determining the variables of interest\n",
    "raw_data = raw_data.drop('User ID', axis=1)\n",
    "raw_data.head(5)"
   ]
  },
  {
   "cell_type": "code",
   "execution_count": 15,
   "metadata": {},
   "outputs": [
    {
     "data": {
      "text/plain": [
       "Category 1     0\n",
       "Category 2     0\n",
       "Category 3     0\n",
       "Category 4     0\n",
       "Category 5     0\n",
       "Category 6     0\n",
       "Category 7     0\n",
       "Category 8     0\n",
       "Category 9     0\n",
       "Category 10    0\n",
       "dtype: int64"
      ]
     },
     "execution_count": 15,
     "metadata": {},
     "output_type": "execute_result"
    }
   ],
   "source": [
    "# Dealing with missing values\n",
    "raw_data.isnull().sum()"
   ]
  },
  {
   "cell_type": "code",
   "execution_count": 16,
   "metadata": {},
   "outputs": [
    {
     "data": {
      "text/plain": [
       "Category 1     float64\n",
       "Category 2     float64\n",
       "Category 3     float64\n",
       "Category 4     float64\n",
       "Category 5     float64\n",
       "Category 6     float64\n",
       "Category 7     float64\n",
       "Category 8     float64\n",
       "Category 9     float64\n",
       "Category 10    float64\n",
       "dtype: object"
      ]
     },
     "execution_count": 16,
     "metadata": {},
     "output_type": "execute_result"
    }
   ],
   "source": [
    "raw_data.dtypes"
   ]
  },
  {
   "cell_type": "code",
   "execution_count": 17,
   "metadata": {},
   "outputs": [
    {
     "data": {
      "text/html": [
       "<div>\n",
       "<style scoped>\n",
       "    .dataframe tbody tr th:only-of-type {\n",
       "        vertical-align: middle;\n",
       "    }\n",
       "\n",
       "    .dataframe tbody tr th {\n",
       "        vertical-align: top;\n",
       "    }\n",
       "\n",
       "    .dataframe thead th {\n",
       "        text-align: right;\n",
       "    }\n",
       "</style>\n",
       "<table border=\"1\" class=\"dataframe\">\n",
       "  <thead>\n",
       "    <tr style=\"text-align: right;\">\n",
       "      <th></th>\n",
       "      <th>Category 1</th>\n",
       "      <th>Category 2</th>\n",
       "      <th>Category 3</th>\n",
       "      <th>Category 4</th>\n",
       "      <th>Category 5</th>\n",
       "      <th>Category 6</th>\n",
       "      <th>Category 7</th>\n",
       "      <th>Category 8</th>\n",
       "      <th>Category 9</th>\n",
       "      <th>Category 10</th>\n",
       "    </tr>\n",
       "  </thead>\n",
       "  <tbody>\n",
       "    <tr>\n",
       "      <th>count</th>\n",
       "      <td>980.000000</td>\n",
       "      <td>980.000000</td>\n",
       "      <td>980.000000</td>\n",
       "      <td>980.000000</td>\n",
       "      <td>980.000000</td>\n",
       "      <td>980.000000</td>\n",
       "      <td>980.000000</td>\n",
       "      <td>980.000000</td>\n",
       "      <td>980.000000</td>\n",
       "      <td>980.000000</td>\n",
       "    </tr>\n",
       "    <tr>\n",
       "      <th>mean</th>\n",
       "      <td>0.893194</td>\n",
       "      <td>1.352612</td>\n",
       "      <td>1.013306</td>\n",
       "      <td>0.532500</td>\n",
       "      <td>0.939735</td>\n",
       "      <td>1.842898</td>\n",
       "      <td>3.180939</td>\n",
       "      <td>2.835061</td>\n",
       "      <td>1.569439</td>\n",
       "      <td>2.799224</td>\n",
       "    </tr>\n",
       "    <tr>\n",
       "      <th>std</th>\n",
       "      <td>0.326912</td>\n",
       "      <td>0.478280</td>\n",
       "      <td>0.788607</td>\n",
       "      <td>0.279731</td>\n",
       "      <td>0.437430</td>\n",
       "      <td>0.539538</td>\n",
       "      <td>0.007824</td>\n",
       "      <td>0.137505</td>\n",
       "      <td>0.364629</td>\n",
       "      <td>0.321380</td>\n",
       "    </tr>\n",
       "    <tr>\n",
       "      <th>min</th>\n",
       "      <td>0.340000</td>\n",
       "      <td>0.000000</td>\n",
       "      <td>0.130000</td>\n",
       "      <td>0.150000</td>\n",
       "      <td>0.060000</td>\n",
       "      <td>0.140000</td>\n",
       "      <td>3.160000</td>\n",
       "      <td>2.420000</td>\n",
       "      <td>0.740000</td>\n",
       "      <td>2.140000</td>\n",
       "    </tr>\n",
       "    <tr>\n",
       "      <th>25%</th>\n",
       "      <td>0.670000</td>\n",
       "      <td>1.080000</td>\n",
       "      <td>0.270000</td>\n",
       "      <td>0.410000</td>\n",
       "      <td>0.640000</td>\n",
       "      <td>1.460000</td>\n",
       "      <td>3.180000</td>\n",
       "      <td>2.740000</td>\n",
       "      <td>1.310000</td>\n",
       "      <td>2.540000</td>\n",
       "    </tr>\n",
       "    <tr>\n",
       "      <th>50%</th>\n",
       "      <td>0.830000</td>\n",
       "      <td>1.280000</td>\n",
       "      <td>0.820000</td>\n",
       "      <td>0.500000</td>\n",
       "      <td>0.900000</td>\n",
       "      <td>1.800000</td>\n",
       "      <td>3.180000</td>\n",
       "      <td>2.820000</td>\n",
       "      <td>1.540000</td>\n",
       "      <td>2.780000</td>\n",
       "    </tr>\n",
       "    <tr>\n",
       "      <th>75%</th>\n",
       "      <td>1.020000</td>\n",
       "      <td>1.560000</td>\n",
       "      <td>1.572500</td>\n",
       "      <td>0.580000</td>\n",
       "      <td>1.200000</td>\n",
       "      <td>2.200000</td>\n",
       "      <td>3.180000</td>\n",
       "      <td>2.910000</td>\n",
       "      <td>1.760000</td>\n",
       "      <td>3.040000</td>\n",
       "    </tr>\n",
       "    <tr>\n",
       "      <th>max</th>\n",
       "      <td>3.220000</td>\n",
       "      <td>3.640000</td>\n",
       "      <td>3.620000</td>\n",
       "      <td>3.440000</td>\n",
       "      <td>3.300000</td>\n",
       "      <td>3.760000</td>\n",
       "      <td>3.210000</td>\n",
       "      <td>3.390000</td>\n",
       "      <td>3.170000</td>\n",
       "      <td>3.660000</td>\n",
       "    </tr>\n",
       "  </tbody>\n",
       "</table>\n",
       "</div>"
      ],
      "text/plain": [
       "       Category 1  Category 2  Category 3  Category 4  Category 5  Category 6  \\\n",
       "count  980.000000  980.000000  980.000000  980.000000  980.000000  980.000000   \n",
       "mean     0.893194    1.352612    1.013306    0.532500    0.939735    1.842898   \n",
       "std      0.326912    0.478280    0.788607    0.279731    0.437430    0.539538   \n",
       "min      0.340000    0.000000    0.130000    0.150000    0.060000    0.140000   \n",
       "25%      0.670000    1.080000    0.270000    0.410000    0.640000    1.460000   \n",
       "50%      0.830000    1.280000    0.820000    0.500000    0.900000    1.800000   \n",
       "75%      1.020000    1.560000    1.572500    0.580000    1.200000    2.200000   \n",
       "max      3.220000    3.640000    3.620000    3.440000    3.300000    3.760000   \n",
       "\n",
       "       Category 7  Category 8  Category 9  Category 10  \n",
       "count  980.000000  980.000000  980.000000   980.000000  \n",
       "mean     3.180939    2.835061    1.569439     2.799224  \n",
       "std      0.007824    0.137505    0.364629     0.321380  \n",
       "min      3.160000    2.420000    0.740000     2.140000  \n",
       "25%      3.180000    2.740000    1.310000     2.540000  \n",
       "50%      3.180000    2.820000    1.540000     2.780000  \n",
       "75%      3.180000    2.910000    1.760000     3.040000  \n",
       "max      3.210000    3.390000    3.170000     3.660000  "
      ]
     },
     "execution_count": 17,
     "metadata": {},
     "output_type": "execute_result"
    }
   ],
   "source": [
    "# Dealing with outliers\n",
    "raw_data.describe()"
   ]
  },
  {
   "cell_type": "code",
   "execution_count": 19,
   "metadata": {},
   "outputs": [
    {
     "data": {
      "text/plain": [
       "<matplotlib.axes._subplots.AxesSubplot at 0x2a2c50bdc10>"
      ]
     },
     "execution_count": 19,
     "metadata": {},
     "output_type": "execute_result"
    },
    {
     "data": {
      "image/png": "[encoded data removed]",
      "text/plain": [
       "<Figure size 432x288 with 1 Axes>"
      ]
     },
     "metadata": {},
     "output_type": "display_data"
    }
   ],
   "source": [
    "sns.distplot(raw_data['Category 1'])"
   ]
  },
  {
   "cell_type": "code",
   "execution_count": 20,
   "metadata": {},
   "outputs": [],
   "source": [
    "q = raw_data[\"Category 1\"].quantile(0.99)\n",
    "data1 = raw_data[raw_data['Category 1']<q]"
   ]
  },
  {
   "cell_type": "code",
   "execution_count": 21,
   "metadata": {},
   "outputs": [
    {
     "data": {
      "text/plain": [
       "<matplotlib.axes._subplots.AxesSubplot at 0x2a2c5b23970>"
      ]
     },
     "execution_count": 21,
     "metadata": {},
     "output_type": "execute_result"
    },
    {
     "data": {
      "image/png": "[encoded data removed]",
      "text/plain": [
       "<Figure size 432x288 with 1 Axes>"
      ]
     },
     "metadata": {},
     "output_type": "display_data"
    }
   ],
   "source": [
    "sns.distplot(data1['Category 1'])"
   ]
  },
  {
   "cell_type": "code",
   "execution_count": 22,
   "metadata": {},
   "outputs": [
    {
     "data": {
      "text/html": [
       "<div>\n",
       "<style scoped>\n",
       "    .dataframe tbody tr th:only-of-type {\n",
       "        vertical-align: middle;\n",
       "    }\n",
       "\n",
       "    .dataframe tbody tr th {\n",
       "        vertical-align: top;\n",
       "    }\n",
       "\n",
       "    .dataframe thead th {\n",
       "        text-align: right;\n",
       "    }\n",
       "</style>\n",
       "<table border=\"1\" class=\"dataframe\">\n",
       "  <thead>\n",
       "    <tr style=\"text-align: right;\">\n",
       "      <th></th>\n",
       "      <th>Category 1</th>\n",
       "      <th>Category 2</th>\n",
       "      <th>Category 3</th>\n",
       "      <th>Category 4</th>\n",
       "      <th>Category 5</th>\n",
       "      <th>Category 6</th>\n",
       "      <th>Category 7</th>\n",
       "      <th>Category 8</th>\n",
       "      <th>Category 9</th>\n",
       "      <th>Category 10</th>\n",
       "    </tr>\n",
       "  </thead>\n",
       "  <tbody>\n",
       "    <tr>\n",
       "      <th>count</th>\n",
       "      <td>970.000000</td>\n",
       "      <td>970.000000</td>\n",
       "      <td>970.000000</td>\n",
       "      <td>970.000000</td>\n",
       "      <td>970.000000</td>\n",
       "      <td>970.000000</td>\n",
       "      <td>970.000000</td>\n",
       "      <td>970.000000</td>\n",
       "      <td>970.000000</td>\n",
       "      <td>970.000000</td>\n",
       "    </tr>\n",
       "    <tr>\n",
       "      <th>mean</th>\n",
       "      <td>0.878361</td>\n",
       "      <td>1.354103</td>\n",
       "      <td>1.014567</td>\n",
       "      <td>0.533670</td>\n",
       "      <td>0.941876</td>\n",
       "      <td>1.843814</td>\n",
       "      <td>3.180959</td>\n",
       "      <td>2.834732</td>\n",
       "      <td>1.569619</td>\n",
       "      <td>2.796928</td>\n",
       "    </tr>\n",
       "    <tr>\n",
       "      <th>std</th>\n",
       "      <td>0.291617</td>\n",
       "      <td>0.475864</td>\n",
       "      <td>0.789375</td>\n",
       "      <td>0.280654</td>\n",
       "      <td>0.437099</td>\n",
       "      <td>0.534829</td>\n",
       "      <td>0.007817</td>\n",
       "      <td>0.137629</td>\n",
       "      <td>0.365548</td>\n",
       "      <td>0.319472</td>\n",
       "    </tr>\n",
       "    <tr>\n",
       "      <th>min</th>\n",
       "      <td>0.340000</td>\n",
       "      <td>0.000000</td>\n",
       "      <td>0.130000</td>\n",
       "      <td>0.170000</td>\n",
       "      <td>0.060000</td>\n",
       "      <td>0.380000</td>\n",
       "      <td>3.160000</td>\n",
       "      <td>2.420000</td>\n",
       "      <td>0.740000</td>\n",
       "      <td>2.140000</td>\n",
       "    </tr>\n",
       "    <tr>\n",
       "      <th>25%</th>\n",
       "      <td>0.670000</td>\n",
       "      <td>1.080000</td>\n",
       "      <td>0.270000</td>\n",
       "      <td>0.410000</td>\n",
       "      <td>0.640000</td>\n",
       "      <td>1.460000</td>\n",
       "      <td>3.180000</td>\n",
       "      <td>2.740000</td>\n",
       "      <td>1.310000</td>\n",
       "      <td>2.540000</td>\n",
       "    </tr>\n",
       "    <tr>\n",
       "      <th>50%</th>\n",
       "      <td>0.830000</td>\n",
       "      <td>1.280000</td>\n",
       "      <td>0.825000</td>\n",
       "      <td>0.500000</td>\n",
       "      <td>0.900000</td>\n",
       "      <td>1.800000</td>\n",
       "      <td>3.180000</td>\n",
       "      <td>2.820000</td>\n",
       "      <td>1.500000</td>\n",
       "      <td>2.780000</td>\n",
       "    </tr>\n",
       "    <tr>\n",
       "      <th>75%</th>\n",
       "      <td>1.020000</td>\n",
       "      <td>1.560000</td>\n",
       "      <td>1.577500</td>\n",
       "      <td>0.580000</td>\n",
       "      <td>1.200000</td>\n",
       "      <td>2.195000</td>\n",
       "      <td>3.180000</td>\n",
       "      <td>2.910000</td>\n",
       "      <td>1.760000</td>\n",
       "      <td>3.020000</td>\n",
       "    </tr>\n",
       "    <tr>\n",
       "      <th>max</th>\n",
       "      <td>1.980000</td>\n",
       "      <td>3.640000</td>\n",
       "      <td>3.620000</td>\n",
       "      <td>3.440000</td>\n",
       "      <td>3.300000</td>\n",
       "      <td>3.760000</td>\n",
       "      <td>3.210000</td>\n",
       "      <td>3.390000</td>\n",
       "      <td>3.170000</td>\n",
       "      <td>3.660000</td>\n",
       "    </tr>\n",
       "  </tbody>\n",
       "</table>\n",
       "</div>"
      ],
      "text/plain": [
       "       Category 1  Category 2  Category 3  Category 4  Category 5  Category 6  \\\n",
       "count  970.000000  970.000000  970.000000  970.000000  970.000000  970.000000   \n",
       "mean     0.878361    1.354103    1.014567    0.533670    0.941876    1.843814   \n",
       "std      0.291617    0.475864    0.789375    0.280654    0.437099    0.534829   \n",
       "min      0.340000    0.000000    0.130000    0.170000    0.060000    0.380000   \n",
       "25%      0.670000    1.080000    0.270000    0.410000    0.640000    1.460000   \n",
       "50%      0.830000    1.280000    0.825000    0.500000    0.900000    1.800000   \n",
       "75%      1.020000    1.560000    1.577500    0.580000    1.200000    2.195000   \n",
       "max      1.980000    3.640000    3.620000    3.440000    3.300000    3.760000   \n",
       "\n",
       "       Category 7  Category 8  Category 9  Category 10  \n",
       "count  970.000000  970.000000  970.000000   970.000000  \n",
       "mean     3.180959    2.834732    1.569619     2.796928  \n",
       "std      0.007817    0.137629    0.365548     0.319472  \n",
       "min      3.160000    2.420000    0.740000     2.140000  \n",
       "25%      3.180000    2.740000    1.310000     2.540000  \n",
       "50%      3.180000    2.820000    1.500000     2.780000  \n",
       "75%      3.180000    2.910000    1.760000     3.020000  \n",
       "max      3.210000    3.390000    3.170000     3.660000  "
      ]
     },
     "execution_count": 22,
     "metadata": {},
     "output_type": "execute_result"
    }
   ],
   "source": [
    "data1.describe()"
   ]
  },
  {
   "cell_type": "code",
   "execution_count": 23,
   "metadata": {},
   "outputs": [
    {
     "data": {
      "text/plain": [
       "<matplotlib.axes._subplots.AxesSubplot at 0x2a2c5c47eb0>"
      ]
     },
     "execution_count": 23,
     "metadata": {},
     "output_type": "execute_result"
    },
    {
     "data": {
      "image/png": "[encoded data removed]",
      "text/plain": [
       "<Figure size 432x288 with 1 Axes>"
      ]
     },
     "metadata": {},
     "output_type": "display_data"
    }
   ],
   "source": [
    "sns.distplot(raw_data['Category 2'])"
   ]
  },
  {
   "cell_type": "code",
   "execution_count": 25,
   "metadata": {},
   "outputs": [
    {
     "data": {
      "text/html": [
       "<div>\n",
       "<style scoped>\n",
       "    .dataframe tbody tr th:only-of-type {\n",
       "        vertical-align: middle;\n",
       "    }\n",
       "\n",
       "    .dataframe tbody tr th {\n",
       "        vertical-align: top;\n",
       "    }\n",
       "\n",
       "    .dataframe thead th {\n",
       "        text-align: right;\n",
       "    }\n",
       "</style>\n",
       "<table border=\"1\" class=\"dataframe\">\n",
       "  <thead>\n",
       "    <tr style=\"text-align: right;\">\n",
       "      <th></th>\n",
       "      <th>Category 1</th>\n",
       "      <th>Category 2</th>\n",
       "      <th>Category 3</th>\n",
       "      <th>Category 4</th>\n",
       "      <th>Category 5</th>\n",
       "      <th>Category 6</th>\n",
       "      <th>Category 7</th>\n",
       "      <th>Category 8</th>\n",
       "      <th>Category 9</th>\n",
       "      <th>Category 10</th>\n",
       "    </tr>\n",
       "  </thead>\n",
       "  <tbody>\n",
       "    <tr>\n",
       "      <th>count</th>\n",
       "      <td>955.000000</td>\n",
       "      <td>955.000000</td>\n",
       "      <td>955.000000</td>\n",
       "      <td>955.000000</td>\n",
       "      <td>955.000000</td>\n",
       "      <td>955.000000</td>\n",
       "      <td>955.000000</td>\n",
       "      <td>955.000000</td>\n",
       "      <td>955.000000</td>\n",
       "      <td>955.000000</td>\n",
       "    </tr>\n",
       "    <tr>\n",
       "      <th>mean</th>\n",
       "      <td>0.878932</td>\n",
       "      <td>1.328000</td>\n",
       "      <td>1.018073</td>\n",
       "      <td>0.532796</td>\n",
       "      <td>0.941194</td>\n",
       "      <td>1.840105</td>\n",
       "      <td>3.180974</td>\n",
       "      <td>2.833843</td>\n",
       "      <td>1.567602</td>\n",
       "      <td>2.795560</td>\n",
       "    </tr>\n",
       "    <tr>\n",
       "      <th>std</th>\n",
       "      <td>0.292633</td>\n",
       "      <td>0.430624</td>\n",
       "      <td>0.791003</td>\n",
       "      <td>0.278590</td>\n",
       "      <td>0.438471</td>\n",
       "      <td>0.535316</td>\n",
       "      <td>0.007837</td>\n",
       "      <td>0.136945</td>\n",
       "      <td>0.364868</td>\n",
       "      <td>0.318858</td>\n",
       "    </tr>\n",
       "    <tr>\n",
       "      <th>min</th>\n",
       "      <td>0.340000</td>\n",
       "      <td>0.000000</td>\n",
       "      <td>0.130000</td>\n",
       "      <td>0.170000</td>\n",
       "      <td>0.060000</td>\n",
       "      <td>0.380000</td>\n",
       "      <td>3.160000</td>\n",
       "      <td>2.420000</td>\n",
       "      <td>0.740000</td>\n",
       "      <td>2.140000</td>\n",
       "    </tr>\n",
       "    <tr>\n",
       "      <th>25%</th>\n",
       "      <td>0.670000</td>\n",
       "      <td>1.080000</td>\n",
       "      <td>0.270000</td>\n",
       "      <td>0.410000</td>\n",
       "      <td>0.640000</td>\n",
       "      <td>1.460000</td>\n",
       "      <td>3.180000</td>\n",
       "      <td>2.740000</td>\n",
       "      <td>1.310000</td>\n",
       "      <td>2.540000</td>\n",
       "    </tr>\n",
       "    <tr>\n",
       "      <th>50%</th>\n",
       "      <td>0.830000</td>\n",
       "      <td>1.280000</td>\n",
       "      <td>0.830000</td>\n",
       "      <td>0.500000</td>\n",
       "      <td>0.900000</td>\n",
       "      <td>1.800000</td>\n",
       "      <td>3.180000</td>\n",
       "      <td>2.820000</td>\n",
       "      <td>1.500000</td>\n",
       "      <td>2.780000</td>\n",
       "    </tr>\n",
       "    <tr>\n",
       "      <th>75%</th>\n",
       "      <td>1.020000</td>\n",
       "      <td>1.560000</td>\n",
       "      <td>1.575000</td>\n",
       "      <td>0.580000</td>\n",
       "      <td>1.200000</td>\n",
       "      <td>2.190000</td>\n",
       "      <td>3.180000</td>\n",
       "      <td>2.910000</td>\n",
       "      <td>1.760000</td>\n",
       "      <td>3.020000</td>\n",
       "    </tr>\n",
       "    <tr>\n",
       "      <th>max</th>\n",
       "      <td>1.980000</td>\n",
       "      <td>2.920000</td>\n",
       "      <td>3.620000</td>\n",
       "      <td>3.440000</td>\n",
       "      <td>3.300000</td>\n",
       "      <td>3.760000</td>\n",
       "      <td>3.210000</td>\n",
       "      <td>3.390000</td>\n",
       "      <td>3.170000</td>\n",
       "      <td>3.660000</td>\n",
       "    </tr>\n",
       "  </tbody>\n",
       "</table>\n",
       "</div>"
      ],
      "text/plain": [
       "       Category 1  Category 2  Category 3  Category 4  Category 5  Category 6  \\\n",
       "count  955.000000  955.000000  955.000000  955.000000  955.000000  955.000000   \n",
       "mean     0.878932    1.328000    1.018073    0.532796    0.941194    1.840105   \n",
       "std      0.292633    0.430624    0.791003    0.278590    0.438471    0.535316   \n",
       "min      0.340000    0.000000    0.130000    0.170000    0.060000    0.380000   \n",
       "25%      0.670000    1.080000    0.270000    0.410000    0.640000    1.460000   \n",
       "50%      0.830000    1.280000    0.830000    0.500000    0.900000    1.800000   \n",
       "75%      1.020000    1.560000    1.575000    0.580000    1.200000    2.190000   \n",
       "max      1.980000    2.920000    3.620000    3.440000    3.300000    3.760000   \n",
       "\n",
       "       Category 7  Category 8  Category 9  Category 10  \n",
       "count  955.000000  955.000000  955.000000   955.000000  \n",
       "mean     3.180974    2.833843    1.567602     2.795560  \n",
       "std      0.007837    0.136945    0.364868     0.318858  \n",
       "min      3.160000    2.420000    0.740000     2.140000  \n",
       "25%      3.180000    2.740000    1.310000     2.540000  \n",
       "50%      3.180000    2.820000    1.500000     2.780000  \n",
       "75%      3.180000    2.910000    1.760000     3.020000  \n",
       "max      3.210000    3.390000    3.170000     3.660000  "
      ]
     },
     "execution_count": 25,
     "metadata": {},
     "output_type": "execute_result"
    }
   ],
   "source": [
    "q = data1[\"Category 2\"].quantile(0.99)\n",
    "data2 = data1[data1['Category 2']<q]\n",
    "data2.describe()"
   ]
  },
  {
   "cell_type": "code",
   "execution_count": 27,
   "metadata": {},
   "outputs": [
    {
     "data": {
      "text/plain": [
       "<matplotlib.axes._subplots.AxesSubplot at 0x2a2c5dabb20>"
      ]
     },
     "execution_count": 27,
     "metadata": {},
     "output_type": "execute_result"
    },
    {
     "data": {
      "image/png": "[encoded data removed]",
      "text/plain": [
       "<Figure size 432x288 with 1 Axes>"
      ]
     },
     "metadata": {},
     "output_type": "display_data"
    }
   ],
   "source": [
    "sns.distplot(data2['Category 2'])"
   ]
  },
  {
   "cell_type": "code",
   "execution_count": 28,
   "metadata": {},
   "outputs": [
    {
     "data": {
      "text/plain": [
       "<matplotlib.axes._subplots.AxesSubplot at 0x2a2c5e5ad30>"
      ]
     },
     "execution_count": 28,
     "metadata": {},
     "output_type": "execute_result"
    },
    {
     "data": {
      "image/png": "[encoded data removed]",
      "text/plain": [
       "<Figure size 432x288 with 1 Axes>"
      ]
     },
     "metadata": {},
     "output_type": "display_data"
    }
   ],
   "source": [
    "sns.distplot(raw_data['Category 3'])"
   ]
  },
  {
   "cell_type": "code",
   "execution_count": 29,
   "metadata": {},
   "outputs": [
    {
     "data": {
      "text/html": [
       "<div>\n",
       "<style scoped>\n",
       "    .dataframe tbody tr th:only-of-type {\n",
       "        vertical-align: middle;\n",
       "    }\n",
       "\n",
       "    .dataframe tbody tr th {\n",
       "        vertical-align: top;\n",
       "    }\n",
       "\n",
       "    .dataframe thead th {\n",
       "        text-align: right;\n",
       "    }\n",
       "</style>\n",
       "<table border=\"1\" class=\"dataframe\">\n",
       "  <thead>\n",
       "    <tr style=\"text-align: right;\">\n",
       "      <th></th>\n",
       "      <th>Category 1</th>\n",
       "      <th>Category 2</th>\n",
       "      <th>Category 3</th>\n",
       "      <th>Category 4</th>\n",
       "      <th>Category 5</th>\n",
       "      <th>Category 6</th>\n",
       "      <th>Category 7</th>\n",
       "      <th>Category 8</th>\n",
       "      <th>Category 9</th>\n",
       "      <th>Category 10</th>\n",
       "    </tr>\n",
       "  </thead>\n",
       "  <tbody>\n",
       "    <tr>\n",
       "      <th>count</th>\n",
       "      <td>945.000000</td>\n",
       "      <td>945.000000</td>\n",
       "      <td>945.000000</td>\n",
       "      <td>945.000000</td>\n",
       "      <td>945.000000</td>\n",
       "      <td>945.000000</td>\n",
       "      <td>945.000000</td>\n",
       "      <td>945.000000</td>\n",
       "      <td>945.000000</td>\n",
       "      <td>945.000000</td>\n",
       "    </tr>\n",
       "    <tr>\n",
       "      <th>mean</th>\n",
       "      <td>0.879810</td>\n",
       "      <td>1.327534</td>\n",
       "      <td>0.996487</td>\n",
       "      <td>0.531270</td>\n",
       "      <td>0.938519</td>\n",
       "      <td>1.836466</td>\n",
       "      <td>3.180783</td>\n",
       "      <td>2.834381</td>\n",
       "      <td>1.569862</td>\n",
       "      <td>2.798857</td>\n",
       "    </tr>\n",
       "    <tr>\n",
       "      <th>std</th>\n",
       "      <td>0.293771</td>\n",
       "      <td>0.431636</td>\n",
       "      <td>0.766365</td>\n",
       "      <td>0.277991</td>\n",
       "      <td>0.438839</td>\n",
       "      <td>0.534150</td>\n",
       "      <td>0.007648</td>\n",
       "      <td>0.136954</td>\n",
       "      <td>0.365784</td>\n",
       "      <td>0.317245</td>\n",
       "    </tr>\n",
       "    <tr>\n",
       "      <th>min</th>\n",
       "      <td>0.340000</td>\n",
       "      <td>0.000000</td>\n",
       "      <td>0.130000</td>\n",
       "      <td>0.170000</td>\n",
       "      <td>0.060000</td>\n",
       "      <td>0.380000</td>\n",
       "      <td>3.160000</td>\n",
       "      <td>2.420000</td>\n",
       "      <td>0.740000</td>\n",
       "      <td>2.140000</td>\n",
       "    </tr>\n",
       "    <tr>\n",
       "      <th>25%</th>\n",
       "      <td>0.670000</td>\n",
       "      <td>1.080000</td>\n",
       "      <td>0.270000</td>\n",
       "      <td>0.410000</td>\n",
       "      <td>0.640000</td>\n",
       "      <td>1.460000</td>\n",
       "      <td>3.180000</td>\n",
       "      <td>2.740000</td>\n",
       "      <td>1.310000</td>\n",
       "      <td>2.540000</td>\n",
       "    </tr>\n",
       "    <tr>\n",
       "      <th>50%</th>\n",
       "      <td>0.830000</td>\n",
       "      <td>1.280000</td>\n",
       "      <td>0.820000</td>\n",
       "      <td>0.500000</td>\n",
       "      <td>0.900000</td>\n",
       "      <td>1.800000</td>\n",
       "      <td>3.180000</td>\n",
       "      <td>2.820000</td>\n",
       "      <td>1.540000</td>\n",
       "      <td>2.780000</td>\n",
       "    </tr>\n",
       "    <tr>\n",
       "      <th>75%</th>\n",
       "      <td>1.020000</td>\n",
       "      <td>1.560000</td>\n",
       "      <td>1.550000</td>\n",
       "      <td>0.580000</td>\n",
       "      <td>1.200000</td>\n",
       "      <td>2.180000</td>\n",
       "      <td>3.180000</td>\n",
       "      <td>2.910000</td>\n",
       "      <td>1.760000</td>\n",
       "      <td>3.020000</td>\n",
       "    </tr>\n",
       "    <tr>\n",
       "      <th>max</th>\n",
       "      <td>1.980000</td>\n",
       "      <td>2.920000</td>\n",
       "      <td>2.890000</td>\n",
       "      <td>3.440000</td>\n",
       "      <td>3.300000</td>\n",
       "      <td>3.760000</td>\n",
       "      <td>3.210000</td>\n",
       "      <td>3.390000</td>\n",
       "      <td>3.170000</td>\n",
       "      <td>3.660000</td>\n",
       "    </tr>\n",
       "  </tbody>\n",
       "</table>\n",
       "</div>"
      ],
      "text/plain": [
       "       Category 1  Category 2  Category 3  Category 4  Category 5  Category 6  \\\n",
       "count  945.000000  945.000000  945.000000  945.000000  945.000000  945.000000   \n",
       "mean     0.879810    1.327534    0.996487    0.531270    0.938519    1.836466   \n",
       "std      0.293771    0.431636    0.766365    0.277991    0.438839    0.534150   \n",
       "min      0.340000    0.000000    0.130000    0.170000    0.060000    0.380000   \n",
       "25%      0.670000    1.080000    0.270000    0.410000    0.640000    1.460000   \n",
       "50%      0.830000    1.280000    0.820000    0.500000    0.900000    1.800000   \n",
       "75%      1.020000    1.560000    1.550000    0.580000    1.200000    2.180000   \n",
       "max      1.980000    2.920000    2.890000    3.440000    3.300000    3.760000   \n",
       "\n",
       "       Category 7  Category 8  Category 9  Category 10  \n",
       "count  945.000000  945.000000  945.000000   945.000000  \n",
       "mean     3.180783    2.834381    1.569862     2.798857  \n",
       "std      0.007648    0.136954    0.365784     0.317245  \n",
       "min      3.160000    2.420000    0.740000     2.140000  \n",
       "25%      3.180000    2.740000    1.310000     2.540000  \n",
       "50%      3.180000    2.820000    1.540000     2.780000  \n",
       "75%      3.180000    2.910000    1.760000     3.020000  \n",
       "max      3.210000    3.390000    3.170000     3.660000  "
      ]
     },
     "execution_count": 29,
     "metadata": {},
     "output_type": "execute_result"
    }
   ],
   "source": [
    "q = data2[\"Category 3\"].quantile(0.99)\n",
    "data3 = data2[data2['Category 3']<q]\n",
    "data3.describe()"
   ]
  },
  {
   "cell_type": "code",
   "execution_count": 30,
   "metadata": {},
   "outputs": [
    {
     "data": {
      "text/plain": [
       "<matplotlib.axes._subplots.AxesSubplot at 0x2a2c5ed7a30>"
      ]
     },
     "execution_count": 30,
     "metadata": {},
     "output_type": "execute_result"
    },
    {
     "data": {
      "image/png": "[encoded data removed]",
      "text/plain": [
       "<Figure size 432x288 with 1 Axes>"
      ]
     },
     "metadata": {},
     "output_type": "display_data"
    }
   ],
   "source": [
    "sns.distplot(data3['Category 3'])"
   ]
  },
  {
   "cell_type": "code",
   "execution_count": 31,
   "metadata": {},
   "outputs": [
    {
     "data": {
      "text/plain": [
       "<matplotlib.axes._subplots.AxesSubplot at 0x2a2c5f4af10>"
      ]
     },
     "execution_count": 31,
     "metadata": {},
     "output_type": "execute_result"
    },
    {
     "data": {
      "image/png": "[encoded data removed]",
      "text/plain": [
       "<Figure size 432x288 with 1 Axes>"
      ]
     },
     "metadata": {},
     "output_type": "display_data"
    }
   ],
   "source": [
    "sns.distplot(raw_data['Category 4'])"
   ]
  },
  {
   "cell_type": "code",
   "execution_count": 35,
   "metadata": {},
   "outputs": [
    {
     "data": {
      "text/html": [
       "<div>\n",
       "<style scoped>\n",
       "    .dataframe tbody tr th:only-of-type {\n",
       "        vertical-align: middle;\n",
       "    }\n",
       "\n",
       "    .dataframe tbody tr th {\n",
       "        vertical-align: top;\n",
       "    }\n",
       "\n",
       "    .dataframe thead th {\n",
       "        text-align: right;\n",
       "    }\n",
       "</style>\n",
       "<table border=\"1\" class=\"dataframe\">\n",
       "  <thead>\n",
       "    <tr style=\"text-align: right;\">\n",
       "      <th></th>\n",
       "      <th>Category 1</th>\n",
       "      <th>Category 2</th>\n",
       "      <th>Category 3</th>\n",
       "      <th>Category 4</th>\n",
       "      <th>Category 5</th>\n",
       "      <th>Category 6</th>\n",
       "      <th>Category 7</th>\n",
       "      <th>Category 8</th>\n",
       "      <th>Category 9</th>\n",
       "      <th>Category 10</th>\n",
       "    </tr>\n",
       "  </thead>\n",
       "  <tbody>\n",
       "    <tr>\n",
       "      <th>count</th>\n",
       "      <td>916.000000</td>\n",
       "      <td>916.000000</td>\n",
       "      <td>916.000000</td>\n",
       "      <td>916.000000</td>\n",
       "      <td>916.000000</td>\n",
       "      <td>916.000000</td>\n",
       "      <td>916.000000</td>\n",
       "      <td>916.000000</td>\n",
       "      <td>916.000000</td>\n",
       "      <td>916.000000</td>\n",
       "    </tr>\n",
       "    <tr>\n",
       "      <th>mean</th>\n",
       "      <td>0.876692</td>\n",
       "      <td>1.318908</td>\n",
       "      <td>1.007063</td>\n",
       "      <td>0.491747</td>\n",
       "      <td>0.937314</td>\n",
       "      <td>1.833406</td>\n",
       "      <td>3.180742</td>\n",
       "      <td>2.836583</td>\n",
       "      <td>1.570513</td>\n",
       "      <td>2.807860</td>\n",
       "    </tr>\n",
       "    <tr>\n",
       "      <th>std</th>\n",
       "      <td>0.291664</td>\n",
       "      <td>0.419211</td>\n",
       "      <td>0.770038</td>\n",
       "      <td>0.122529</td>\n",
       "      <td>0.436355</td>\n",
       "      <td>0.534208</td>\n",
       "      <td>0.007689</td>\n",
       "      <td>0.136736</td>\n",
       "      <td>0.366970</td>\n",
       "      <td>0.317169</td>\n",
       "    </tr>\n",
       "    <tr>\n",
       "      <th>min</th>\n",
       "      <td>0.340000</td>\n",
       "      <td>0.000000</td>\n",
       "      <td>0.130000</td>\n",
       "      <td>0.170000</td>\n",
       "      <td>0.060000</td>\n",
       "      <td>0.380000</td>\n",
       "      <td>3.160000</td>\n",
       "      <td>2.420000</td>\n",
       "      <td>0.740000</td>\n",
       "      <td>2.140000</td>\n",
       "    </tr>\n",
       "    <tr>\n",
       "      <th>25%</th>\n",
       "      <td>0.670000</td>\n",
       "      <td>1.080000</td>\n",
       "      <td>0.270000</td>\n",
       "      <td>0.410000</td>\n",
       "      <td>0.640000</td>\n",
       "      <td>1.460000</td>\n",
       "      <td>3.180000</td>\n",
       "      <td>2.740000</td>\n",
       "      <td>1.310000</td>\n",
       "      <td>2.540000</td>\n",
       "    </tr>\n",
       "    <tr>\n",
       "      <th>50%</th>\n",
       "      <td>0.830000</td>\n",
       "      <td>1.280000</td>\n",
       "      <td>0.840000</td>\n",
       "      <td>0.490000</td>\n",
       "      <td>0.890000</td>\n",
       "      <td>1.780000</td>\n",
       "      <td>3.180000</td>\n",
       "      <td>2.820000</td>\n",
       "      <td>1.540000</td>\n",
       "      <td>2.780000</td>\n",
       "    </tr>\n",
       "    <tr>\n",
       "      <th>75%</th>\n",
       "      <td>1.020000</td>\n",
       "      <td>1.520000</td>\n",
       "      <td>1.570000</td>\n",
       "      <td>0.570000</td>\n",
       "      <td>1.200000</td>\n",
       "      <td>2.180000</td>\n",
       "      <td>3.180000</td>\n",
       "      <td>2.930000</td>\n",
       "      <td>1.760000</td>\n",
       "      <td>3.040000</td>\n",
       "    </tr>\n",
       "    <tr>\n",
       "      <th>max</th>\n",
       "      <td>1.980000</td>\n",
       "      <td>2.880000</td>\n",
       "      <td>2.890000</td>\n",
       "      <td>0.980000</td>\n",
       "      <td>3.300000</td>\n",
       "      <td>3.760000</td>\n",
       "      <td>3.210000</td>\n",
       "      <td>3.390000</td>\n",
       "      <td>3.170000</td>\n",
       "      <td>3.660000</td>\n",
       "    </tr>\n",
       "  </tbody>\n",
       "</table>\n",
       "</div>"
      ],
      "text/plain": [
       "       Category 1  Category 2  Category 3  Category 4  Category 5  Category 6  \\\n",
       "count  916.000000  916.000000  916.000000  916.000000  916.000000  916.000000   \n",
       "mean     0.876692    1.318908    1.007063    0.491747    0.937314    1.833406   \n",
       "std      0.291664    0.419211    0.770038    0.122529    0.436355    0.534208   \n",
       "min      0.340000    0.000000    0.130000    0.170000    0.060000    0.380000   \n",
       "25%      0.670000    1.080000    0.270000    0.410000    0.640000    1.460000   \n",
       "50%      0.830000    1.280000    0.840000    0.490000    0.890000    1.780000   \n",
       "75%      1.020000    1.520000    1.570000    0.570000    1.200000    2.180000   \n",
       "max      1.980000    2.880000    2.890000    0.980000    3.300000    3.760000   \n",
       "\n",
       "       Category 7  Category 8  Category 9  Category 10  \n",
       "count  916.000000  916.000000  916.000000   916.000000  \n",
       "mean     3.180742    2.836583    1.570513     2.807860  \n",
       "std      0.007689    0.136736    0.366970     0.317169  \n",
       "min      3.160000    2.420000    0.740000     2.140000  \n",
       "25%      3.180000    2.740000    1.310000     2.540000  \n",
       "50%      3.180000    2.820000    1.540000     2.780000  \n",
       "75%      3.180000    2.930000    1.760000     3.040000  \n",
       "max      3.210000    3.390000    3.170000     3.660000  "
      ]
     },
     "execution_count": 35,
     "metadata": {},
     "output_type": "execute_result"
    }
   ],
   "source": [
    "q = data3[\"Category 4\"].quantile(0.97)\n",
    "data4 = data3[data3['Category 4']<q]\n",
    "data4.describe()"
   ]
  },
  {
   "cell_type": "code",
   "execution_count": 36,
   "metadata": {},
   "outputs": [
    {
     "data": {
      "text/plain": [
       "<matplotlib.axes._subplots.AxesSubplot at 0x2a2c61c2820>"
      ]
     },
     "execution_count": 36,
     "metadata": {},
     "output_type": "execute_result"
    },
    {
     "data": {
      "image/png": "[encoded data removed]",
      "text/plain": [
       "<Figure size 432x288 with 1 Axes>"
      ]
     },
     "metadata": {},
     "output_type": "display_data"
    }
   ],
   "source": [
    "sns.distplot(data4['Category 4'])"
   ]
  },
  {
   "cell_type": "code",
   "execution_count": 37,
   "metadata": {},
   "outputs": [
    {
     "data": {
      "text/plain": [
       "<matplotlib.axes._subplots.AxesSubplot at 0x2a2c62379d0>"
      ]
     },
     "execution_count": 37,
     "metadata": {},
     "output_type": "execute_result"
    },
    {
     "data": {
      "image/png": "[encoded data removed]",
      "text/plain": [
       "<Figure size 432x288 with 1 Axes>"
      ]
     },
     "metadata": {},
     "output_type": "display_data"
    }
   ],
   "source": [
    "sns.distplot(raw_data['Category 5'])"
   ]
  },
  {
   "cell_type": "code",
   "execution_count": 39,
   "metadata": {},
   "outputs": [
    {
     "data": {
      "text/html": [
       "<div>\n",
       "<style scoped>\n",
       "    .dataframe tbody tr th:only-of-type {\n",
       "        vertical-align: middle;\n",
       "    }\n",
       "\n",
       "    .dataframe tbody tr th {\n",
       "        vertical-align: top;\n",
       "    }\n",
       "\n",
       "    .dataframe thead th {\n",
       "        text-align: right;\n",
       "    }\n",
       "</style>\n",
       "<table border=\"1\" class=\"dataframe\">\n",
       "  <thead>\n",
       "    <tr style=\"text-align: right;\">\n",
       "      <th></th>\n",
       "      <th>Category 1</th>\n",
       "      <th>Category 2</th>\n",
       "      <th>Category 3</th>\n",
       "      <th>Category 4</th>\n",
       "      <th>Category 5</th>\n",
       "      <th>Category 6</th>\n",
       "      <th>Category 7</th>\n",
       "      <th>Category 8</th>\n",
       "      <th>Category 9</th>\n",
       "      <th>Category 10</th>\n",
       "    </tr>\n",
       "  </thead>\n",
       "  <tbody>\n",
       "    <tr>\n",
       "      <th>count</th>\n",
       "      <td>906.000000</td>\n",
       "      <td>906.000000</td>\n",
       "      <td>906.000000</td>\n",
       "      <td>906.000000</td>\n",
       "      <td>906.000000</td>\n",
       "      <td>906.000000</td>\n",
       "      <td>906.000000</td>\n",
       "      <td>906.000000</td>\n",
       "      <td>906.000000</td>\n",
       "      <td>906.000000</td>\n",
       "    </tr>\n",
       "    <tr>\n",
       "      <th>mean</th>\n",
       "      <td>0.878179</td>\n",
       "      <td>1.319868</td>\n",
       "      <td>1.008587</td>\n",
       "      <td>0.491711</td>\n",
       "      <td>0.918786</td>\n",
       "      <td>1.826766</td>\n",
       "      <td>3.180762</td>\n",
       "      <td>2.836887</td>\n",
       "      <td>1.568709</td>\n",
       "      <td>2.808499</td>\n",
       "    </tr>\n",
       "    <tr>\n",
       "      <th>std</th>\n",
       "      <td>0.292741</td>\n",
       "      <td>0.418923</td>\n",
       "      <td>0.770138</td>\n",
       "      <td>0.122930</td>\n",
       "      <td>0.398958</td>\n",
       "      <td>0.532273</td>\n",
       "      <td>0.007708</td>\n",
       "      <td>0.136656</td>\n",
       "      <td>0.363635</td>\n",
       "      <td>0.317406</td>\n",
       "    </tr>\n",
       "    <tr>\n",
       "      <th>min</th>\n",
       "      <td>0.340000</td>\n",
       "      <td>0.000000</td>\n",
       "      <td>0.130000</td>\n",
       "      <td>0.170000</td>\n",
       "      <td>0.060000</td>\n",
       "      <td>0.380000</td>\n",
       "      <td>3.160000</td>\n",
       "      <td>2.420000</td>\n",
       "      <td>0.740000</td>\n",
       "      <td>2.260000</td>\n",
       "    </tr>\n",
       "    <tr>\n",
       "      <th>25%</th>\n",
       "      <td>0.670000</td>\n",
       "      <td>1.080000</td>\n",
       "      <td>0.270000</td>\n",
       "      <td>0.410000</td>\n",
       "      <td>0.625000</td>\n",
       "      <td>1.460000</td>\n",
       "      <td>3.180000</td>\n",
       "      <td>2.740000</td>\n",
       "      <td>1.310000</td>\n",
       "      <td>2.540000</td>\n",
       "    </tr>\n",
       "    <tr>\n",
       "      <th>50%</th>\n",
       "      <td>0.830000</td>\n",
       "      <td>1.280000</td>\n",
       "      <td>0.855000</td>\n",
       "      <td>0.490000</td>\n",
       "      <td>0.880000</td>\n",
       "      <td>1.780000</td>\n",
       "      <td>3.180000</td>\n",
       "      <td>2.820000</td>\n",
       "      <td>1.540000</td>\n",
       "      <td>2.780000</td>\n",
       "    </tr>\n",
       "    <tr>\n",
       "      <th>75%</th>\n",
       "      <td>1.020000</td>\n",
       "      <td>1.520000</td>\n",
       "      <td>1.570000</td>\n",
       "      <td>0.570000</td>\n",
       "      <td>1.200000</td>\n",
       "      <td>2.180000</td>\n",
       "      <td>3.180000</td>\n",
       "      <td>2.930000</td>\n",
       "      <td>1.760000</td>\n",
       "      <td>3.040000</td>\n",
       "    </tr>\n",
       "    <tr>\n",
       "      <th>max</th>\n",
       "      <td>1.980000</td>\n",
       "      <td>2.880000</td>\n",
       "      <td>2.890000</td>\n",
       "      <td>0.980000</td>\n",
       "      <td>2.080000</td>\n",
       "      <td>3.760000</td>\n",
       "      <td>3.210000</td>\n",
       "      <td>3.390000</td>\n",
       "      <td>3.170000</td>\n",
       "      <td>3.660000</td>\n",
       "    </tr>\n",
       "  </tbody>\n",
       "</table>\n",
       "</div>"
      ],
      "text/plain": [
       "       Category 1  Category 2  Category 3  Category 4  Category 5  Category 6  \\\n",
       "count  906.000000  906.000000  906.000000  906.000000  906.000000  906.000000   \n",
       "mean     0.878179    1.319868    1.008587    0.491711    0.918786    1.826766   \n",
       "std      0.292741    0.418923    0.770138    0.122930    0.398958    0.532273   \n",
       "min      0.340000    0.000000    0.130000    0.170000    0.060000    0.380000   \n",
       "25%      0.670000    1.080000    0.270000    0.410000    0.625000    1.460000   \n",
       "50%      0.830000    1.280000    0.855000    0.490000    0.880000    1.780000   \n",
       "75%      1.020000    1.520000    1.570000    0.570000    1.200000    2.180000   \n",
       "max      1.980000    2.880000    2.890000    0.980000    2.080000    3.760000   \n",
       "\n",
       "       Category 7  Category 8  Category 9  Category 10  \n",
       "count  906.000000  906.000000  906.000000   906.000000  \n",
       "mean     3.180762    2.836887    1.568709     2.808499  \n",
       "std      0.007708    0.136656    0.363635     0.317406  \n",
       "min      3.160000    2.420000    0.740000     2.260000  \n",
       "25%      3.180000    2.740000    1.310000     2.540000  \n",
       "50%      3.180000    2.820000    1.540000     2.780000  \n",
       "75%      3.180000    2.930000    1.760000     3.040000  \n",
       "max      3.210000    3.390000    3.170000     3.660000  "
      ]
     },
     "execution_count": 39,
     "metadata": {},
     "output_type": "execute_result"
    }
   ],
   "source": [
    "q = data4[\"Category 5\"].quantile(0.99)\n",
    "data5 = data4[data4['Category 5']<q]\n",
    "data5.describe()"
   ]
  },
  {
   "cell_type": "code",
   "execution_count": 40,
   "metadata": {},
   "outputs": [
    {
     "data": {
      "text/plain": [
       "<matplotlib.axes._subplots.AxesSubplot at 0x2a2c62f7dc0>"
      ]
     },
     "execution_count": 40,
     "metadata": {},
     "output_type": "execute_result"
    },
    {
     "data": {
      "image/png": "[encoded data removed]",
      "text/plain": [
       "<Figure size 432x288 with 1 Axes>"
      ]
     },
     "metadata": {},
     "output_type": "display_data"
    }
   ],
   "source": [
    "sns.distplot(data5['Category 5'])"
   ]
  },
  {
   "cell_type": "code",
   "execution_count": 41,
   "metadata": {},
   "outputs": [
    {
     "data": {
      "text/plain": [
       "<matplotlib.axes._subplots.AxesSubplot at 0x2a2c5f4a850>"
      ]
     },
     "execution_count": 41,
     "metadata": {},
     "output_type": "execute_result"
    },
    {
     "data": {
      "image/png": "[encoded data removed]",
      "text/plain": [
       "<Figure size 432x288 with 1 Axes>"
      ]
     },
     "metadata": {},
     "output_type": "display_data"
    }
   ],
   "source": [
    "sns.distplot(raw_data['Category 6'])"
   ]
  },
  {
   "cell_type": "code",
   "execution_count": 42,
   "metadata": {},
   "outputs": [
    {
     "name": "stderr",
     "output_type": "stream",
     "text": [
      "C:\\Users\\Ruslan\\anaconda3\\lib\\site-packages\\seaborn\\distributions.py:369: UserWarning: Default bandwidth for data is 0; skipping density estimation.\n",
      "  warnings.warn(msg, UserWarning)\n"
     ]
    },
    {
     "data": {
      "text/plain": [
       "<matplotlib.axes._subplots.AxesSubplot at 0x2a2c63fdc10>"
      ]
     },
     "execution_count": 42,
     "metadata": {},
     "output_type": "execute_result"
    },
    {
     "data": {
      "image/png": "[encoded data removed]",
      "text/plain": [
       "<Figure size 432x288 with 1 Axes>"
      ]
     },
     "metadata": {},
     "output_type": "display_data"
    }
   ],
   "source": [
    "sns.distplot(raw_data['Category 7'])"
   ]
  },
  {
   "cell_type": "code",
   "execution_count": 44,
   "metadata": {},
   "outputs": [
    {
     "data": {
      "text/plain": [
       "<matplotlib.axes._subplots.AxesSubplot at 0x2a2c7496790>"
      ]
     },
     "execution_count": 44,
     "metadata": {},
     "output_type": "execute_result"
    },
    {
     "data": {
      "image/png": "[encoded data removed]",
      "text/plain": [
       "<Figure size 432x288 with 1 Axes>"
      ]
     },
     "metadata": {},
     "output_type": "display_data"
    }
   ],
   "source": [
    "sns.distplot(raw_data['Category 8'])"
   ]
  },
  {
   "cell_type": "code",
   "execution_count": 45,
   "metadata": {},
   "outputs": [
    {
     "data": {
      "text/html": [
       "<div>\n",
       "<style scoped>\n",
       "    .dataframe tbody tr th:only-of-type {\n",
       "        vertical-align: middle;\n",
       "    }\n",
       "\n",
       "    .dataframe tbody tr th {\n",
       "        vertical-align: top;\n",
       "    }\n",
       "\n",
       "    .dataframe thead th {\n",
       "        text-align: right;\n",
       "    }\n",
       "</style>\n",
       "<table border=\"1\" class=\"dataframe\">\n",
       "  <thead>\n",
       "    <tr style=\"text-align: right;\">\n",
       "      <th></th>\n",
       "      <th>Category 1</th>\n",
       "      <th>Category 2</th>\n",
       "      <th>Category 3</th>\n",
       "      <th>Category 4</th>\n",
       "      <th>Category 5</th>\n",
       "      <th>Category 6</th>\n",
       "      <th>Category 7</th>\n",
       "      <th>Category 8</th>\n",
       "      <th>Category 9</th>\n",
       "      <th>Category 10</th>\n",
       "    </tr>\n",
       "  </thead>\n",
       "  <tbody>\n",
       "    <tr>\n",
       "      <th>count</th>\n",
       "      <td>896.000000</td>\n",
       "      <td>896.000000</td>\n",
       "      <td>896.000000</td>\n",
       "      <td>896.000000</td>\n",
       "      <td>896.000000</td>\n",
       "      <td>896.000000</td>\n",
       "      <td>896.000000</td>\n",
       "      <td>896.000000</td>\n",
       "      <td>896.000000</td>\n",
       "      <td>896.00000</td>\n",
       "    </tr>\n",
       "    <tr>\n",
       "      <th>mean</th>\n",
       "      <td>0.879185</td>\n",
       "      <td>1.323304</td>\n",
       "      <td>1.012310</td>\n",
       "      <td>0.491172</td>\n",
       "      <td>0.918750</td>\n",
       "      <td>1.826105</td>\n",
       "      <td>3.180770</td>\n",
       "      <td>2.831953</td>\n",
       "      <td>1.566730</td>\n",
       "      <td>2.80875</td>\n",
       "    </tr>\n",
       "    <tr>\n",
       "      <th>std</th>\n",
       "      <td>0.292610</td>\n",
       "      <td>0.417965</td>\n",
       "      <td>0.772163</td>\n",
       "      <td>0.123135</td>\n",
       "      <td>0.398334</td>\n",
       "      <td>0.531818</td>\n",
       "      <td>0.007751</td>\n",
       "      <td>0.128963</td>\n",
       "      <td>0.363811</td>\n",
       "      <td>0.31872</td>\n",
       "    </tr>\n",
       "    <tr>\n",
       "      <th>min</th>\n",
       "      <td>0.340000</td>\n",
       "      <td>0.000000</td>\n",
       "      <td>0.130000</td>\n",
       "      <td>0.170000</td>\n",
       "      <td>0.060000</td>\n",
       "      <td>0.380000</td>\n",
       "      <td>3.160000</td>\n",
       "      <td>2.420000</td>\n",
       "      <td>0.740000</td>\n",
       "      <td>2.26000</td>\n",
       "    </tr>\n",
       "    <tr>\n",
       "      <th>25%</th>\n",
       "      <td>0.670000</td>\n",
       "      <td>1.080000</td>\n",
       "      <td>0.270000</td>\n",
       "      <td>0.410000</td>\n",
       "      <td>0.635000</td>\n",
       "      <td>1.460000</td>\n",
       "      <td>3.180000</td>\n",
       "      <td>2.740000</td>\n",
       "      <td>1.310000</td>\n",
       "      <td>2.54000</td>\n",
       "    </tr>\n",
       "    <tr>\n",
       "      <th>50%</th>\n",
       "      <td>0.830000</td>\n",
       "      <td>1.280000</td>\n",
       "      <td>0.860000</td>\n",
       "      <td>0.490000</td>\n",
       "      <td>0.880000</td>\n",
       "      <td>1.780000</td>\n",
       "      <td>3.180000</td>\n",
       "      <td>2.820000</td>\n",
       "      <td>1.520000</td>\n",
       "      <td>2.78000</td>\n",
       "    </tr>\n",
       "    <tr>\n",
       "      <th>75%</th>\n",
       "      <td>1.020000</td>\n",
       "      <td>1.520000</td>\n",
       "      <td>1.570000</td>\n",
       "      <td>0.570000</td>\n",
       "      <td>1.200000</td>\n",
       "      <td>2.180000</td>\n",
       "      <td>3.180000</td>\n",
       "      <td>2.910000</td>\n",
       "      <td>1.760000</td>\n",
       "      <td>3.04000</td>\n",
       "    </tr>\n",
       "    <tr>\n",
       "      <th>max</th>\n",
       "      <td>1.980000</td>\n",
       "      <td>2.880000</td>\n",
       "      <td>2.890000</td>\n",
       "      <td>0.980000</td>\n",
       "      <td>2.080000</td>\n",
       "      <td>3.760000</td>\n",
       "      <td>3.210000</td>\n",
       "      <td>3.200000</td>\n",
       "      <td>3.170000</td>\n",
       "      <td>3.66000</td>\n",
       "    </tr>\n",
       "  </tbody>\n",
       "</table>\n",
       "</div>"
      ],
      "text/plain": [
       "       Category 1  Category 2  Category 3  Category 4  Category 5  Category 6  \\\n",
       "count  896.000000  896.000000  896.000000  896.000000  896.000000  896.000000   \n",
       "mean     0.879185    1.323304    1.012310    0.491172    0.918750    1.826105   \n",
       "std      0.292610    0.417965    0.772163    0.123135    0.398334    0.531818   \n",
       "min      0.340000    0.000000    0.130000    0.170000    0.060000    0.380000   \n",
       "25%      0.670000    1.080000    0.270000    0.410000    0.635000    1.460000   \n",
       "50%      0.830000    1.280000    0.860000    0.490000    0.880000    1.780000   \n",
       "75%      1.020000    1.520000    1.570000    0.570000    1.200000    2.180000   \n",
       "max      1.980000    2.880000    2.890000    0.980000    2.080000    3.760000   \n",
       "\n",
       "       Category 7  Category 8  Category 9  Category 10  \n",
       "count  896.000000  896.000000  896.000000    896.00000  \n",
       "mean     3.180770    2.831953    1.566730      2.80875  \n",
       "std      0.007751    0.128963    0.363811      0.31872  \n",
       "min      3.160000    2.420000    0.740000      2.26000  \n",
       "25%      3.180000    2.740000    1.310000      2.54000  \n",
       "50%      3.180000    2.820000    1.520000      2.78000  \n",
       "75%      3.180000    2.910000    1.760000      3.04000  \n",
       "max      3.210000    3.200000    3.170000      3.66000  "
      ]
     },
     "execution_count": 45,
     "metadata": {},
     "output_type": "execute_result"
    }
   ],
   "source": [
    "q = data5[\"Category 8\"].quantile(0.99)\n",
    "data6 = data5[data5['Category 8']<q]\n",
    "data6.describe()"
   ]
  },
  {
   "cell_type": "code",
   "execution_count": 46,
   "metadata": {},
   "outputs": [
    {
     "data": {
      "text/plain": [
       "<matplotlib.axes._subplots.AxesSubplot at 0x2a2c7529670>"
      ]
     },
     "execution_count": 46,
     "metadata": {},
     "output_type": "execute_result"
    },
    {
     "data": {
      "image/png": "[encoded data removed]",
      "text/plain": [
       "<Figure size 432x288 with 1 Axes>"
      ]
     },
     "metadata": {},
     "output_type": "display_data"
    }
   ],
   "source": [
    "sns.distplot(data6['Category 8'])"
   ]
  },
  {
   "cell_type": "code",
   "execution_count": 47,
   "metadata": {},
   "outputs": [
    {
     "data": {
      "text/plain": [
       "<matplotlib.axes._subplots.AxesSubplot at 0x2a2c7597e80>"
      ]
     },
     "execution_count": 47,
     "metadata": {},
     "output_type": "execute_result"
    },
    {
     "data": {
      "image/png": "[encoded data removed]",
      "text/plain": [
       "<Figure size 432x288 with 1 Axes>"
      ]
     },
     "metadata": {},
     "output_type": "display_data"
    }
   ],
   "source": [
    "sns.distplot(raw_data['Category 9'])"
   ]
  },
  {
   "cell_type": "code",
   "execution_count": 48,
   "metadata": {},
   "outputs": [
    {
     "data": {
      "text/plain": [
       "<matplotlib.axes._subplots.AxesSubplot at 0x2a2c7530670>"
      ]
     },
     "execution_count": 48,
     "metadata": {},
     "output_type": "execute_result"
    },
    {
     "data": {
      "image/png": "[encoded data removed]",
      "text/plain": [
       "<Figure size 432x288 with 1 Axes>"
      ]
     },
     "metadata": {},
     "output_type": "display_data"
    }
   ],
   "source": [
    "sns.distplot(raw_data['Category 10'])"
   ]
  },
  {
   "cell_type": "code",
   "execution_count": 49,
   "metadata": {},
   "outputs": [
    {
     "data": {
      "text/plain": [
       "<matplotlib.collections.PathCollection at 0x2a2c76da1c0>"
      ]
     },
     "execution_count": 49,
     "metadata": {},
     "output_type": "execute_result"
    },
    {
     "data": {
      "image/png": "[encoded data removed]",
      "text/plain": [
       "<Figure size 432x288 with 1 Axes>"
      ]
     },
     "metadata": {},
     "output_type": "display_data"
    }
   ],
   "source": [
    "plt.scatter(data6['Category 1'], data6['Category 2'])"
   ]
  },
  {
   "cell_type": "markdown",
   "metadata": {},
   "source": [
    "### Multicollinearity"
   ]
  },
  {
   "cell_type": "code",
   "execution_count": 51,
   "metadata": {
    "scrolled": true
   },
   "outputs": [
    {
     "data": {
      "text/plain": [
       "Index(['Category 1', 'Category 2', 'Category 3', 'Category 4', 'Category 5',\n",
       "       'Category 6', 'Category 7', 'Category 8', 'Category 9', 'Category 10'],\n",
       "      dtype='object')"
      ]
     },
     "execution_count": 51,
     "metadata": {},
     "output_type": "execute_result"
    }
   ],
   "source": [
    "data6.columns"
   ]
  },
  {
   "cell_type": "code",
   "execution_count": 55,
   "metadata": {},
   "outputs": [
    {
     "data": {
      "text/html": [
       "<div>\n",
       "<style scoped>\n",
       "    .dataframe tbody tr th:only-of-type {\n",
       "        vertical-align: middle;\n",
       "    }\n",
       "\n",
       "    .dataframe tbody tr th {\n",
       "        vertical-align: top;\n",
       "    }\n",
       "\n",
       "    .dataframe thead th {\n",
       "        text-align: right;\n",
       "    }\n",
       "</style>\n",
       "<table border=\"1\" class=\"dataframe\">\n",
       "  <thead>\n",
       "    <tr style=\"text-align: right;\">\n",
       "      <th></th>\n",
       "      <th>VIF</th>\n",
       "      <th>Features</th>\n",
       "    </tr>\n",
       "  </thead>\n",
       "  <tbody>\n",
       "    <tr>\n",
       "      <th>6</th>\n",
       "      <td>762.571482</td>\n",
       "      <td>Category 7</td>\n",
       "    </tr>\n",
       "    <tr>\n",
       "      <th>7</th>\n",
       "      <td>534.368924</td>\n",
       "      <td>Category 8</td>\n",
       "    </tr>\n",
       "    <tr>\n",
       "      <th>9</th>\n",
       "      <td>141.365582</td>\n",
       "      <td>Category 10</td>\n",
       "    </tr>\n",
       "    <tr>\n",
       "      <th>3</th>\n",
       "      <td>26.143109</td>\n",
       "      <td>Category 4</td>\n",
       "    </tr>\n",
       "    <tr>\n",
       "      <th>5</th>\n",
       "      <td>25.902996</td>\n",
       "      <td>Category 6</td>\n",
       "    </tr>\n",
       "    <tr>\n",
       "      <th>8</th>\n",
       "      <td>20.880781</td>\n",
       "      <td>Category 9</td>\n",
       "    </tr>\n",
       "    <tr>\n",
       "      <th>1</th>\n",
       "      <td>12.467591</td>\n",
       "      <td>Category 2</td>\n",
       "    </tr>\n",
       "    <tr>\n",
       "      <th>0</th>\n",
       "      <td>11.259718</td>\n",
       "      <td>Category 1</td>\n",
       "    </tr>\n",
       "    <tr>\n",
       "      <th>4</th>\n",
       "      <td>10.294397</td>\n",
       "      <td>Category 5</td>\n",
       "    </tr>\n",
       "    <tr>\n",
       "      <th>2</th>\n",
       "      <td>3.941251</td>\n",
       "      <td>Category 3</td>\n",
       "    </tr>\n",
       "  </tbody>\n",
       "</table>\n",
       "</div>"
      ],
      "text/plain": [
       "          VIF     Features\n",
       "6  762.571482   Category 7\n",
       "7  534.368924   Category 8\n",
       "9  141.365582  Category 10\n",
       "3   26.143109   Category 4\n",
       "5   25.902996   Category 6\n",
       "8   20.880781   Category 9\n",
       "1   12.467591   Category 2\n",
       "0   11.259718   Category 1\n",
       "4   10.294397   Category 5\n",
       "2    3.941251   Category 3"
      ]
     },
     "execution_count": 55,
     "metadata": {},
     "output_type": "execute_result"
    }
   ],
   "source": [
    "from statsmodels.stats.outliers_influence import variance_inflation_factor\n",
    "variable = data6[['Category 1', 'Category 2', 'Category 3', 'Category 4', 'Category 5',\n",
    "       'Category 6', 'Category 7', 'Category 8', 'Category 9', 'Category 10']]\n",
    "vif = pd.DataFrame()\n",
    "vif['VIF'] = [variance_inflation_factor(variable.values, i) for i in range(variable.shape[1])]\n",
    "vif['Features'] = variable.columns\n",
    "vif.sort_values(by = ['VIF'], ascending=False)"
   ]
  },
  {
   "cell_type": "code",
   "execution_count": 61,
   "metadata": {},
   "outputs": [
    {
     "data": {
      "text/html": [
       "<div>\n",
       "<style scoped>\n",
       "    .dataframe tbody tr th:only-of-type {\n",
       "        vertical-align: middle;\n",
       "    }\n",
       "\n",
       "    .dataframe tbody tr th {\n",
       "        vertical-align: top;\n",
       "    }\n",
       "\n",
       "    .dataframe thead th {\n",
       "        text-align: right;\n",
       "    }\n",
       "</style>\n",
       "<table border=\"1\" class=\"dataframe\">\n",
       "  <thead>\n",
       "    <tr style=\"text-align: right;\">\n",
       "      <th></th>\n",
       "      <th>VIF</th>\n",
       "      <th>Features</th>\n",
       "    </tr>\n",
       "  </thead>\n",
       "  <tbody>\n",
       "    <tr>\n",
       "      <th>1</th>\n",
       "      <td>6.492559</td>\n",
       "      <td>Category 2</td>\n",
       "    </tr>\n",
       "    <tr>\n",
       "      <th>3</th>\n",
       "      <td>6.271337</td>\n",
       "      <td>Category 5</td>\n",
       "    </tr>\n",
       "    <tr>\n",
       "      <th>0</th>\n",
       "      <td>5.260577</td>\n",
       "      <td>Category 1</td>\n",
       "    </tr>\n",
       "    <tr>\n",
       "      <th>2</th>\n",
       "      <td>3.049458</td>\n",
       "      <td>Category 3</td>\n",
       "    </tr>\n",
       "  </tbody>\n",
       "</table>\n",
       "</div>"
      ],
      "text/plain": [
       "        VIF    Features\n",
       "1  6.492559  Category 2\n",
       "3  6.271337  Category 5\n",
       "0  5.260577  Category 1\n",
       "2  3.049458  Category 3"
      ]
     },
     "execution_count": 61,
     "metadata": {},
     "output_type": "execute_result"
    }
   ],
   "source": [
    "from statsmodels.stats.outliers_influence import variance_inflation_factor\n",
    "variable = data6[['Category 1', 'Category 2', 'Category 3', 'Category 5']]\n",
    "vif = pd.DataFrame()\n",
    "vif['VIF'] = [variance_inflation_factor(variable.values, i) for i in range(variable.shape[1])]\n",
    "vif['Features'] = variable.columns\n",
    "vif.sort_values(by = ['VIF'], ascending=False)"
   ]
  },
  {
   "cell_type": "code",
   "execution_count": 63,
   "metadata": {},
   "outputs": [
    {
     "data": {
      "text/html": [
       "<div>\n",
       "<style scoped>\n",
       "    .dataframe tbody tr th:only-of-type {\n",
       "        vertical-align: middle;\n",
       "    }\n",
       "\n",
       "    .dataframe tbody tr th {\n",
       "        vertical-align: top;\n",
       "    }\n",
       "\n",
       "    .dataframe thead th {\n",
       "        text-align: right;\n",
       "    }\n",
       "</style>\n",
       "<table border=\"1\" class=\"dataframe\">\n",
       "  <thead>\n",
       "    <tr style=\"text-align: right;\">\n",
       "      <th></th>\n",
       "      <th>Category 1</th>\n",
       "      <th>Category 2</th>\n",
       "      <th>Category 3</th>\n",
       "      <th>Category 5</th>\n",
       "    </tr>\n",
       "  </thead>\n",
       "  <tbody>\n",
       "    <tr>\n",
       "      <th>0</th>\n",
       "      <td>0.93</td>\n",
       "      <td>1.80</td>\n",
       "      <td>2.29</td>\n",
       "      <td>0.80</td>\n",
       "    </tr>\n",
       "    <tr>\n",
       "      <th>1</th>\n",
       "      <td>1.02</td>\n",
       "      <td>2.20</td>\n",
       "      <td>2.66</td>\n",
       "      <td>1.42</td>\n",
       "    </tr>\n",
       "    <tr>\n",
       "      <th>2</th>\n",
       "      <td>1.22</td>\n",
       "      <td>0.80</td>\n",
       "      <td>0.54</td>\n",
       "      <td>0.24</td>\n",
       "    </tr>\n",
       "    <tr>\n",
       "      <th>3</th>\n",
       "      <td>0.45</td>\n",
       "      <td>1.80</td>\n",
       "      <td>0.29</td>\n",
       "      <td>0.46</td>\n",
       "    </tr>\n",
       "    <tr>\n",
       "      <th>4</th>\n",
       "      <td>0.51</td>\n",
       "      <td>1.20</td>\n",
       "      <td>1.18</td>\n",
       "      <td>1.54</td>\n",
       "    </tr>\n",
       "    <tr>\n",
       "      <th>...</th>\n",
       "      <td>...</td>\n",
       "      <td>...</td>\n",
       "      <td>...</td>\n",
       "      <td>...</td>\n",
       "    </tr>\n",
       "    <tr>\n",
       "      <th>975</th>\n",
       "      <td>0.74</td>\n",
       "      <td>1.12</td>\n",
       "      <td>0.30</td>\n",
       "      <td>0.88</td>\n",
       "    </tr>\n",
       "    <tr>\n",
       "      <th>976</th>\n",
       "      <td>1.25</td>\n",
       "      <td>0.92</td>\n",
       "      <td>1.12</td>\n",
       "      <td>0.78</td>\n",
       "    </tr>\n",
       "    <tr>\n",
       "      <th>977</th>\n",
       "      <td>0.61</td>\n",
       "      <td>1.32</td>\n",
       "      <td>0.67</td>\n",
       "      <td>1.30</td>\n",
       "    </tr>\n",
       "    <tr>\n",
       "      <th>978</th>\n",
       "      <td>0.93</td>\n",
       "      <td>0.20</td>\n",
       "      <td>0.13</td>\n",
       "      <td>0.30</td>\n",
       "    </tr>\n",
       "    <tr>\n",
       "      <th>979</th>\n",
       "      <td>0.93</td>\n",
       "      <td>0.56</td>\n",
       "      <td>1.13</td>\n",
       "      <td>1.34</td>\n",
       "    </tr>\n",
       "  </tbody>\n",
       "</table>\n",
       "<p>896 rows × 4 columns</p>\n",
       "</div>"
      ],
      "text/plain": [
       "     Category 1  Category 2  Category 3  Category 5\n",
       "0          0.93        1.80        2.29        0.80\n",
       "1          1.02        2.20        2.66        1.42\n",
       "2          1.22        0.80        0.54        0.24\n",
       "3          0.45        1.80        0.29        0.46\n",
       "4          0.51        1.20        1.18        1.54\n",
       "..          ...         ...         ...         ...\n",
       "975        0.74        1.12        0.30        0.88\n",
       "976        1.25        0.92        1.12        0.78\n",
       "977        0.61        1.32        0.67        1.30\n",
       "978        0.93        0.20        0.13        0.30\n",
       "979        0.93        0.56        1.13        1.34\n",
       "\n",
       "[896 rows x 4 columns]"
      ]
     },
     "execution_count": 63,
     "metadata": {},
     "output_type": "execute_result"
    }
   ],
   "source": [
    "data_preprocessed = data6[['Category 1', 'Category 2', \"Category 3\", \"Category 5\"]]\n",
    "data_preprocessed"
   ]
  },
  {
   "cell_type": "code",
   "execution_count": 67,
   "metadata": {},
   "outputs": [],
   "source": [
    "x = data_preprocessed[['Category 1', 'Category 2', 'Category 3', \"Category 5\"]]\n",
    "from sklearn.model_selection import train_test_split\n",
    "x_train, x_test = train_test_split(x, test_size = 0.3, random_state=0)"
   ]
  },
  {
   "cell_type": "markdown",
   "metadata": {},
   "source": [
    "### Clustering"
   ]
  },
  {
   "cell_type": "code",
   "execution_count": 82,
   "metadata": {},
   "outputs": [],
   "source": [
    "from sklearn.cluster import KMeans\n",
    "\n",
    "# Elbow method\n",
    "wcss_val = []\n",
    "for i in range(1, 8):\n",
    "    kmeans = KMeans(i)\n",
    "    kmeans.fit(x_train)\n",
    "    wcss_iter = kmeans.inertia_\n",
    "    wcss_val.append(wcss_iter)"
   ]
  },
  {
   "cell_type": "code",
   "execution_count": 85,
   "metadata": {},
   "outputs": [
    {
     "data": {
      "text/plain": [
       "Text(0, 0.5, 'Within-cluster Sum of Squares')"
      ]
     },
     "execution_count": 85,
     "metadata": {},
     "output_type": "execute_result"
    },
    {
     "data": {
      "image/png": "[encoded data removed]",
      "text/plain": [
       "<Figure size 432x288 with 1 Axes>"
      ]
     },
     "metadata": {},
     "output_type": "display_data"
    }
   ],
   "source": [
    "# Create values for x axis\n",
    "number_clusters = range(1,8)\n",
    "# Plot the number of clusters vs WCSS\n",
    "plt.plot(number_clusters,wcss_val)\n",
    "# Name your graph\n",
    "plt.title('The Elbow Method')\n",
    "# Name the x-axis\n",
    "plt.xlabel('Number of clusters')\n",
    "# Name the y-axis\n",
    "plt.ylabel('Within-cluster Sum of Squares')"
   ]
  },
  {
   "cell_type": "code",
   "execution_count": 93,
   "metadata": {},
   "outputs": [
    {
     "data": {
      "text/plain": [
       "KMeans(n_clusters=2)"
      ]
     },
     "execution_count": 93,
     "metadata": {},
     "output_type": "execute_result"
    }
   ],
   "source": [
    "kmeans = KMeans(2)\n",
    "kmeans.fit(x_train)"
   ]
  },
  {
   "cell_type": "code",
   "execution_count": 94,
   "metadata": {},
   "outputs": [
    {
     "data": {
      "text/plain": [
       "array([1, 0, 0, 0, 0, 1, 0, 0, 0, 0, 1, 1, 0, 0, 1, 1, 0, 1, 1, 1, 1, 0,\n",
       "       0, 1, 0, 1, 1, 0, 1, 1, 1, 1, 1, 0, 1, 0, 1, 1, 1, 0, 1, 0, 0, 1,\n",
       "       1, 0, 1, 1, 0, 0, 0, 1, 0, 0, 1, 1, 0, 0, 1, 1, 1, 0, 0, 1, 0, 0,\n",
       "       0, 0, 0, 0, 0, 0, 1, 0, 1, 1, 0, 0, 0, 0, 0, 0, 0, 0, 0, 0, 1, 1,\n",
       "       0, 1, 1, 0, 0, 1, 1, 1, 1, 0, 0, 0, 0, 1, 0, 1, 1, 1, 1, 0, 0, 0,\n",
       "       1, 0, 1, 1, 0, 0, 1, 0, 1, 0, 0, 0, 0, 0, 1, 0, 0, 0, 0, 1, 0, 0,\n",
       "       0, 0, 1, 1, 1, 0, 0, 0, 0, 0, 0, 0, 0, 0, 0, 0, 1, 1, 1, 0, 0, 1,\n",
       "       0, 0, 1, 0, 0, 0, 1, 0, 0, 1, 0, 1, 1, 1, 0, 0, 1, 1, 0, 0, 0, 1,\n",
       "       1, 0, 1, 1, 1, 0, 0, 1, 0, 1, 0, 0, 0, 0, 0, 1, 0, 0, 1, 0, 0, 1,\n",
       "       0, 0, 1, 0, 0, 0, 0, 1, 1, 0, 1, 1, 0, 0, 1, 0, 0, 1, 1, 1, 0, 0,\n",
       "       0, 0, 0, 0, 1, 0, 0, 0, 0, 1, 0, 1, 0, 0, 0, 1, 1, 1, 1, 0, 1, 1,\n",
       "       1, 0, 0, 0, 0, 0, 1, 0, 0, 0, 1, 0, 1, 1, 1, 0, 0, 0, 0, 0, 0, 0,\n",
       "       0, 0, 0, 0, 1])"
      ]
     },
     "execution_count": 94,
     "metadata": {},
     "output_type": "execute_result"
    }
   ],
   "source": [
    "identified_clusters = kmeans.fit_predict(x_test)\n",
    "identified_clusters"
   ]
  },
  {
   "cell_type": "code",
   "execution_count": 95,
   "metadata": {},
   "outputs": [
    {
     "data": {
      "text/html": [
       "<div>\n",
       "<style scoped>\n",
       "    .dataframe tbody tr th:only-of-type {\n",
       "        vertical-align: middle;\n",
       "    }\n",
       "\n",
       "    .dataframe tbody tr th {\n",
       "        vertical-align: top;\n",
       "    }\n",
       "\n",
       "    .dataframe thead th {\n",
       "        text-align: right;\n",
       "    }\n",
       "</style>\n",
       "<table border=\"1\" class=\"dataframe\">\n",
       "  <thead>\n",
       "    <tr style=\"text-align: right;\">\n",
       "      <th></th>\n",
       "      <th>Category 1</th>\n",
       "      <th>Category 2</th>\n",
       "      <th>Category 3</th>\n",
       "      <th>Category 5</th>\n",
       "      <th>Clusters</th>\n",
       "    </tr>\n",
       "  </thead>\n",
       "  <tbody>\n",
       "    <tr>\n",
       "      <th>160</th>\n",
       "      <td>0.58</td>\n",
       "      <td>1.12</td>\n",
       "      <td>1.57</td>\n",
       "      <td>0.78</td>\n",
       "      <td>1</td>\n",
       "    </tr>\n",
       "    <tr>\n",
       "      <th>65</th>\n",
       "      <td>1.47</td>\n",
       "      <td>0.72</td>\n",
       "      <td>0.53</td>\n",
       "      <td>0.48</td>\n",
       "      <td>0</td>\n",
       "    </tr>\n",
       "    <tr>\n",
       "      <th>803</th>\n",
       "      <td>1.31</td>\n",
       "      <td>0.04</td>\n",
       "      <td>0.98</td>\n",
       "      <td>0.54</td>\n",
       "      <td>0</td>\n",
       "    </tr>\n",
       "    <tr>\n",
       "      <th>33</th>\n",
       "      <td>1.06</td>\n",
       "      <td>1.12</td>\n",
       "      <td>0.21</td>\n",
       "      <td>0.98</td>\n",
       "      <td>0</td>\n",
       "    </tr>\n",
       "    <tr>\n",
       "      <th>557</th>\n",
       "      <td>0.96</td>\n",
       "      <td>0.88</td>\n",
       "      <td>0.22</td>\n",
       "      <td>0.42</td>\n",
       "      <td>0</td>\n",
       "    </tr>\n",
       "    <tr>\n",
       "      <th>...</th>\n",
       "      <td>...</td>\n",
       "      <td>...</td>\n",
       "      <td>...</td>\n",
       "      <td>...</td>\n",
       "      <td>...</td>\n",
       "    </tr>\n",
       "    <tr>\n",
       "      <th>965</th>\n",
       "      <td>0.64</td>\n",
       "      <td>0.96</td>\n",
       "      <td>0.22</td>\n",
       "      <td>1.74</td>\n",
       "      <td>0</td>\n",
       "    </tr>\n",
       "    <tr>\n",
       "      <th>971</th>\n",
       "      <td>1.28</td>\n",
       "      <td>1.24</td>\n",
       "      <td>0.14</td>\n",
       "      <td>0.62</td>\n",
       "      <td>0</td>\n",
       "    </tr>\n",
       "    <tr>\n",
       "      <th>129</th>\n",
       "      <td>0.54</td>\n",
       "      <td>1.20</td>\n",
       "      <td>0.45</td>\n",
       "      <td>0.88</td>\n",
       "      <td>0</td>\n",
       "    </tr>\n",
       "    <tr>\n",
       "      <th>85</th>\n",
       "      <td>0.74</td>\n",
       "      <td>1.84</td>\n",
       "      <td>0.24</td>\n",
       "      <td>0.80</td>\n",
       "      <td>0</td>\n",
       "    </tr>\n",
       "    <tr>\n",
       "      <th>51</th>\n",
       "      <td>0.42</td>\n",
       "      <td>1.48</td>\n",
       "      <td>2.06</td>\n",
       "      <td>0.96</td>\n",
       "      <td>1</td>\n",
       "    </tr>\n",
       "  </tbody>\n",
       "</table>\n",
       "<p>269 rows × 5 columns</p>\n",
       "</div>"
      ],
      "text/plain": [
       "     Category 1  Category 2  Category 3  Category 5  Clusters\n",
       "160        0.58        1.12        1.57        0.78         1\n",
       "65         1.47        0.72        0.53        0.48         0\n",
       "803        1.31        0.04        0.98        0.54         0\n",
       "33         1.06        1.12        0.21        0.98         0\n",
       "557        0.96        0.88        0.22        0.42         0\n",
       "..          ...         ...         ...         ...       ...\n",
       "965        0.64        0.96        0.22        1.74         0\n",
       "971        1.28        1.24        0.14        0.62         0\n",
       "129        0.54        1.20        0.45        0.88         0\n",
       "85         0.74        1.84        0.24        0.80         0\n",
       "51         0.42        1.48        2.06        0.96         1\n",
       "\n",
       "[269 rows x 5 columns]"
      ]
     },
     "execution_count": 95,
     "metadata": {},
     "output_type": "execute_result"
    }
   ],
   "source": [
    "data_with_cluster = x_test.copy()\n",
    "data_with_cluster['Clusters'] = identified_clusters\n",
    "data_with_cluster"
   ]
  },
  {
   "cell_type": "code",
   "execution_count": 100,
   "metadata": {},
   "outputs": [
    {
     "data": {
      "text/plain": [
       "(-0.006000000000000005, 2.986)"
      ]
     },
     "execution_count": 100,
     "metadata": {},
     "output_type": "execute_result"
    },
    {
     "data": {
      "image/png": "[encoded data removed]",
      "text/plain": [
       "<Figure size 432x288 with 1 Axes>"
      ]
     },
     "metadata": {},
     "output_type": "display_data"
    }
   ],
   "source": [
    "plt.scatter(data_with_cluster['Category 1'], data_with_cluster['Category 3'], c=data_with_cluster['Clusters'], cmap='rainbow')\n",
    "plt.xlim()\n",
    "plt.ylim()"
   ]
  },
  {
   "cell_type": "code",
   "execution_count": null,
   "metadata": {},
   "outputs": [],
   "source": []
  },
  {
   "cell_type": "code",
   "execution_count": null,
   "metadata": {},
   "outputs": [],
   "source": []
  },
  {
   "cell_type": "code",
   "execution_count": null,
   "metadata": {},
   "outputs": [],
   "source": []
  }
 ],
 "metadata": {
  "kernelspec": {
   "display_name": "Python 3",
   "language": "python",
   "name": "python3"
  },
  "language_info": {
   "codemirror_mode": {
    "name": "ipython",
    "version": 3
   },
   "file_extension": ".py",
   "mimetype": "text/x-python",
   "name": "python",
   "nbconvert_exporter": "python",
   "pygments_lexer": "ipython3",
   "version": "3.8.3"
  }
 },
 "nbformat": 4,
 "nbformat_minor": 4
}
